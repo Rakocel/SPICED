{
 "cells": [
  {
   "cell_type": "code",
   "execution_count": 4,
   "metadata": {},
   "outputs": [],
   "source": [
    "import re"
   ]
  },
  {
   "cell_type": "code",
   "execution_count": 2,
   "metadata": {},
   "outputs": [],
   "source": [
    "docs = ['all along the western front people line up to receive',\n",
    "          \"They told him don't you ever come around here\",\n",
    "          \"do what you feel now electric feel now do what you feel now electric feel\",\n",
    "          \"Don't want to see your face, you better disappear\",\n",
    "          \"Beat it, beat it, beat it!\"]"
   ]
  },
  {
   "cell_type": "code",
   "execution_count": 5,
   "metadata": {},
   "outputs": [
    {
     "name": "stdout",
     "output_type": "stream",
     "text": [
      "all along the western front people line up to receive\n",
      "They told him don't you ever come around here\n",
      "do what you feel now electric feel now do what you feel now electric feel\n",
      "Don't want to see your face, you better disappear\n",
      "Beat it, beat it, beat it!\n"
     ]
    }
   ],
   "source": [
    "cleaned_doc_filtered = []\n",
    "pattern = r\"[^a-z-A-Z0-9áéíóúñüÁÉÍÓÚÜÑ]\"\n",
    "for doc in docs:\n",
    "    print(doc)\n",
    "    cleaned_doc = re.sub(pattern,' ',doc.lower())\n",
    "    cleaned_doc_filtered.append(cleaned_doc)"
   ]
  },
  {
   "cell_type": "code",
   "execution_count": 6,
   "metadata": {},
   "outputs": [
    {
     "data": {
      "text/plain": [
       "['all along the western front people line up to receive',\n",
       " 'they told him don t you ever come around here',\n",
       " 'do what you feel now electric feel now do what you feel now electric feel',\n",
       " 'don t want to see your face  you better disappear',\n",
       " 'beat it  beat it  beat it ']"
      ]
     },
     "execution_count": 6,
     "metadata": {},
     "output_type": "execute_result"
    }
   ],
   "source": [
    "cleaned_doc_filtered"
   ]
  },
  {
   "cell_type": "code",
   "execution_count": null,
   "metadata": {},
   "outputs": [],
   "source": []
  }
 ],
 "metadata": {
  "kernelspec": {
   "display_name": "Python 3",
   "language": "python",
   "name": "python3"
  },
  "language_info": {
   "codemirror_mode": {
    "name": "ipython",
    "version": 3
   },
   "file_extension": ".py",
   "mimetype": "text/x-python",
   "name": "python",
   "nbconvert_exporter": "python",
   "pygments_lexer": "ipython3",
   "version": "3.8.5"
  }
 },
 "nbformat": 4,
 "nbformat_minor": 4
}
