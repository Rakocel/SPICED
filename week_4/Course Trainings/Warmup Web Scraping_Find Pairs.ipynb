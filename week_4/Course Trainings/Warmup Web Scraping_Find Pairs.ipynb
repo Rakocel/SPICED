{
 "cells": [
  {
   "cell_type": "markdown",
   "metadata": {},
   "source": [
    "+ Regular Expressions - powerful language to find patterns in text\n",
    "+ requests - Python library for sending HTTP GET and HTTP POST requests\n",
    "+ Scrapy - Python library for downloading entire web sites\n",
    "+ BeautifulSoup4 - request for a web page that allows to submit large forms or upload files\n",
    "+ URL - address of a website, file or similar\n",
    "+ HTML - text format in which most web pages are written\n",
    "+ HTTP - method to send text messages from one computer to another, built on top of TCP/IP.\n",
    "+ HTTP GET - request for a web page with a size limit\n",
    "+ HTTP POST - request for a web page that allows to submit large forms or upload files\n",
    "+ API - generic name for a (web) programming interface\n",
    "+ 200 - response indicating that a web page was successfully delivered\n",
    "+ 404 - response indicating that a web page could not be found\n"
   ]
  },
  {
   "cell_type": "code",
   "execution_count": null,
   "metadata": {},
   "outputs": [],
   "source": []
  }
 ],
 "metadata": {
  "kernelspec": {
   "display_name": "Python 3",
   "language": "python",
   "name": "python3"
  },
  "language_info": {
   "codemirror_mode": {
    "name": "ipython",
    "version": 3
   },
   "file_extension": ".py",
   "mimetype": "text/x-python",
   "name": "python",
   "nbconvert_exporter": "python",
   "pygments_lexer": "ipython3",
   "version": "3.8.5"
  }
 },
 "nbformat": 4,
 "nbformat_minor": 4
}
