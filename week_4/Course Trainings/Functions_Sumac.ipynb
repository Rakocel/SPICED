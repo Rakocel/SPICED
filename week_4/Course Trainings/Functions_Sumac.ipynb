{
 "cells": [
  {
   "cell_type": "markdown",
   "metadata": {},
   "source": [
    "# Warmup 🔥"
   ]
  },
  {
   "cell_type": "markdown",
   "metadata": {},
   "source": [
    "**Task:** Take the lyrics we collected and write a loop so that all lines of text are in lowercase and consist only of alphanumerical characters (without punctuation)."
   ]
  },
  {
   "cell_type": "code",
   "execution_count": 4,
   "metadata": {},
   "outputs": [],
   "source": [
    "lyrics = ['all along the western front people line up to receive',\n",
    "          \"They told him don't you ever come around here\",\n",
    "          \"do what you feel now electric feel now do what you feel now electric feel\",\n",
    "          \"Don't want to see your face, you better disappear\",\n",
    "          \"Beat it, beat it, beat it!\"]"
   ]
  },
  {
   "cell_type": "code",
   "execution_count": null,
   "metadata": {},
   "outputs": [],
   "source": [
    "lyrics_second = [....]"
   ]
  },
  {
   "cell_type": "code",
   "execution_count": 8,
   "metadata": {},
   "outputs": [],
   "source": [
    "import re"
   ]
  },
  {
   "cell_type": "code",
   "execution_count": 9,
   "metadata": {},
   "outputs": [],
   "source": [
    "lyrics_clean = []\n",
    "for line in lyrics: \n",
    "    line_lower = line.lower()\n",
    "    line_clean = re.sub(\"[^\\w\\s]\", \"\", line_lower)\n",
    "    lyrics_clean.append(line_clean) "
   ]
  },
  {
   "cell_type": "code",
   "execution_count": 10,
   "metadata": {},
   "outputs": [
    {
     "data": {
      "text/plain": [
       "['all along the western front people line up to receive',\n",
       " 'they told him dont you ever come around here',\n",
       " 'do what you feel now electric feel now do what you feel now electric feel',\n",
       " 'dont want to see your face you better disappear',\n",
       " 'beat it beat it beat it']"
      ]
     },
     "execution_count": 10,
     "metadata": {},
     "output_type": "execute_result"
    }
   ],
   "source": [
    "lyrics_clean"
   ]
  },
  {
   "cell_type": "code",
   "execution_count": null,
   "metadata": {},
   "outputs": [],
   "source": [
    "# list comprehensions"
   ]
  },
  {
   "cell_type": "code",
   "execution_count": 12,
   "metadata": {},
   "outputs": [],
   "source": [
    "lyrics_clean2 = [re.sub(\"[^\\w\\s]\", \"\", line).lower() for line in lyrics]"
   ]
  },
  {
   "cell_type": "code",
   "execution_count": 13,
   "metadata": {},
   "outputs": [
    {
     "data": {
      "text/plain": [
       "['all along the western front people line up to receive',\n",
       " 'they told him dont you ever come around here',\n",
       " 'do what you feel now electric feel now do what you feel now electric feel',\n",
       " 'dont want to see your face you better disappear',\n",
       " 'beat it beat it beat it']"
      ]
     },
     "execution_count": 13,
     "metadata": {},
     "output_type": "execute_result"
    }
   ],
   "source": [
    "lyrics_clean2"
   ]
  },
  {
   "cell_type": "markdown",
   "metadata": {},
   "source": [
    "# Python Functions"
   ]
  },
  {
   "cell_type": "markdown",
   "metadata": {},
   "source": [
    "0. Why should we use them?\n",
    "1. How to write them\n",
    "2. How to make them interact\n",
    "3. Parameters\n",
    "4. return-values and scope\n",
    "5. Checklist"
   ]
  },
  {
   "cell_type": "code",
   "execution_count": null,
   "metadata": {},
   "outputs": [],
   "source": []
  },
  {
   "cell_type": "markdown",
   "metadata": {},
   "source": [
    "## 0. Why should we use them? 🧐\n",
    "- improve readability\n",
    "- reusability and abstraction: DRY\n",
    "- divide complex problems into smaller ones\n",
    "- testability and easier bugfixes"
   ]
  },
  {
   "cell_type": "code",
   "execution_count": null,
   "metadata": {},
   "outputs": [],
   "source": []
  },
  {
   "cell_type": "markdown",
   "metadata": {},
   "source": [
    "## 1. How to write functions 📝"
   ]
  },
  {
   "cell_type": "markdown",
   "metadata": {},
   "source": [
    "- A function should have a single purpose\n",
    "- You start with the def keyword\n",
    "- This is followed by the function_name in lower case with underscores\n",
    "- Followed by parentheses `()` and a colon `:`\n",
    "- After the `:` you need to indent the code of the function\n",
    "- The indented part, the function definition, should always start with a docstring describing what the function does\n",
    "- Parameters of a function are defined in the `()`\n",
    "- One or more return statements (but not mandatory)"
   ]
  },
  {
   "cell_type": "code",
   "execution_count": null,
   "metadata": {},
   "outputs": [],
   "source": [
    "# Skeleton function\n",
    "def clean_text(text):\n",
    "    \"\"\"This function transforms the input data into lowercase and strips it of punctuation.\n",
    "    \n",
    "    Parameters:\n",
    "    -------------\n",
    "    text: list of strings\n",
    "    \n",
    "    Returns:\n",
    "    ------------\n",
    "    A list with the transformed/cleaned texts.\n",
    "    \"\"\"\n",
    "    # instructions\n",
    "    ... # pass -> nothing happens\n",
    "    return cleaned_text   #optional"
   ]
  },
  {
   "cell_type": "code",
   "execution_count": null,
   "metadata": {},
   "outputs": [],
   "source": []
  },
  {
   "cell_type": "code",
   "execution_count": 24,
   "metadata": {},
   "outputs": [],
   "source": [
    "def clean_text(text):\n",
    "    \"\"\"This function transforms the input data into lowercase and strips it of punctuation.\n",
    "    \n",
    "    Parameters:\n",
    "    -------------\n",
    "    text: list of strings\n",
    "    \n",
    "    Returns:\n",
    "    ------------\n",
    "    A list with the transformed/cleaned texts.\n",
    "    \"\"\"\n",
    "    text_clean = []\n",
    "    for line in text: \n",
    "        line_lower = line.lower()\n",
    "        #line_clean = re.sub(\"[^\\w\\s]\", \"\", line_lower)\n",
    "        line_clean = only_alphanumeric(line_lower)\n",
    "        text_clean.append(line_clean) \n",
    "    \n",
    "    return text_clean"
   ]
  },
  {
   "cell_type": "code",
   "execution_count": 25,
   "metadata": {},
   "outputs": [],
   "source": [
    "cleaned = clean_text(lyrics)"
   ]
  },
  {
   "cell_type": "code",
   "execution_count": 26,
   "metadata": {},
   "outputs": [
    {
     "data": {
      "text/plain": [
       "['all along the western front people line up to receive',\n",
       " 'they told him dont you ever come around here',\n",
       " 'do what you feel now electric feel now do what you feel now electric feel',\n",
       " 'dont want to see your face you better disappear',\n",
       " 'beat it beat it beat it']"
      ]
     },
     "execution_count": 26,
     "metadata": {},
     "output_type": "execute_result"
    }
   ],
   "source": [
    "cleaned"
   ]
  },
  {
   "cell_type": "code",
   "execution_count": 21,
   "metadata": {},
   "outputs": [],
   "source": [
    "cleaned2 = clean_text(['What a nice Afternoon!!#?'])"
   ]
  },
  {
   "cell_type": "code",
   "execution_count": 22,
   "metadata": {},
   "outputs": [
    {
     "data": {
      "text/plain": [
       "['what a nice afternoon']"
      ]
     },
     "execution_count": 22,
     "metadata": {},
     "output_type": "execute_result"
    }
   ],
   "source": [
    "cleaned2"
   ]
  },
  {
   "cell_type": "code",
   "execution_count": null,
   "metadata": {},
   "outputs": [],
   "source": [
    "clean_text()"
   ]
  },
  {
   "cell_type": "code",
   "execution_count": 18,
   "metadata": {},
   "outputs": [
    {
     "name": "stdout",
     "output_type": "stream",
     "text": [
      "Help on function clean_text in module __main__:\n",
      "\n",
      "clean_text(text)\n",
      "    This function transforms the input data into lowercase and strips it of punctuation.\n",
      "    \n",
      "    Parameters:\n",
      "    -------------\n",
      "    text: list of strings\n",
      "    \n",
      "    Returns:\n",
      "    ------------\n",
      "    A list with the transformed/cleaned texts.\n",
      "\n"
     ]
    }
   ],
   "source": [
    "help(clean_text)"
   ]
  },
  {
   "cell_type": "markdown",
   "metadata": {},
   "source": [
    "## 2. How to make functions interact with each other 🔄"
   ]
  },
  {
   "cell_type": "code",
   "execution_count": 23,
   "metadata": {},
   "outputs": [],
   "source": [
    "def only_alphanumeric(text):\n",
    "    \"\"\" \"\"\"\n",
    "    \n",
    "    line_clean = re.sub(\"[^\\w\\s]\", \"\", text)\n",
    "    return line_clean"
   ]
  },
  {
   "cell_type": "code",
   "execution_count": null,
   "metadata": {},
   "outputs": [],
   "source": []
  },
  {
   "cell_type": "code",
   "execution_count": 27,
   "metadata": {},
   "outputs": [],
   "source": [
    "# Recursive functions\n",
    "def recursive(text):\n",
    "    \"\"\" \"\"\"\n",
    "    new_text = text[:-1]\n",
    "    if len(text) > 0: \n",
    "        print(new_text)\n",
    "        recursive(new_text)"
   ]
  },
  {
   "cell_type": "code",
   "execution_count": 28,
   "metadata": {},
   "outputs": [
    {
     "name": "stdout",
     "output_type": "stream",
     "text": [
      "Hello ther\n",
      "Hello the\n",
      "Hello th\n",
      "Hello t\n",
      "Hello \n",
      "Hello\n",
      "Hell\n",
      "Hel\n",
      "He\n",
      "H\n",
      "\n"
     ]
    }
   ],
   "source": [
    "recursive('Hello there')"
   ]
  },
  {
   "cell_type": "code",
   "execution_count": 29,
   "metadata": {},
   "outputs": [
    {
     "ename": "TypeError",
     "evalue": "recursive() missing 1 required positional argument: 'text'",
     "output_type": "error",
     "traceback": [
      "\u001b[0;31m---------------------------------------------------------------------------\u001b[0m",
      "\u001b[0;31mTypeError\u001b[0m                                 Traceback (most recent call last)",
      "\u001b[0;32m<ipython-input-29-199dec858265>\u001b[0m in \u001b[0;36m<module>\u001b[0;34m\u001b[0m\n\u001b[0;32m----> 1\u001b[0;31m \u001b[0mrecursive\u001b[0m\u001b[0;34m(\u001b[0m\u001b[0;34m)\u001b[0m\u001b[0;34m\u001b[0m\u001b[0;34m\u001b[0m\u001b[0m\n\u001b[0m",
      "\u001b[0;31mTypeError\u001b[0m: recursive() missing 1 required positional argument: 'text'"
     ]
    }
   ],
   "source": [
    "recursive()"
   ]
  },
  {
   "cell_type": "code",
   "execution_count": null,
   "metadata": {},
   "outputs": [],
   "source": []
  },
  {
   "cell_type": "code",
   "execution_count": null,
   "metadata": {},
   "outputs": [],
   "source": []
  },
  {
   "cell_type": "code",
   "execution_count": null,
   "metadata": {},
   "outputs": [],
   "source": []
  },
  {
   "cell_type": "code",
   "execution_count": null,
   "metadata": {},
   "outputs": [],
   "source": []
  },
  {
   "cell_type": "code",
   "execution_count": null,
   "metadata": {},
   "outputs": [],
   "source": []
  },
  {
   "cell_type": "code",
   "execution_count": null,
   "metadata": {},
   "outputs": [],
   "source": []
  },
  {
   "cell_type": "markdown",
   "metadata": {},
   "source": [
    "## 3. How to use different Parameters 🖐\n",
    "\n",
    "- Different kinds of parameters:\n",
    "\n",
    "\n",
    "    - Required parameters\n",
    "    - Optional parameters \n",
    "\n",
    "    - Positional parameters \n",
    "    - Keyword parameters\n",
    "    \n",
    "    - `*args`: A tuple of variable length\n",
    "    - `**kwargs`: A dictionary of variable length"
   ]
  },
  {
   "cell_type": "markdown",
   "metadata": {},
   "source": [
    "### 3.1. REQUIRED Parameters"
   ]
  },
  {
   "cell_type": "code",
   "execution_count": 36,
   "metadata": {},
   "outputs": [],
   "source": [
    "def create_recipe(title, description):\n",
    "    \"\"\" \"\"\"\n",
    "    \n",
    "    print(f\"Recipe for: {title.upper()}\")\n",
    "    print(description)"
   ]
  },
  {
   "cell_type": "code",
   "execution_count": 38,
   "metadata": {},
   "outputs": [],
   "source": [
    "soup_desc = 'A wonderful dish to eat when you are hungry from all the scarping.'"
   ]
  },
  {
   "cell_type": "code",
   "execution_count": 42,
   "metadata": {},
   "outputs": [
    {
     "name": "stdout",
     "output_type": "stream",
     "text": [
      "Recipe for: BEAUTIFUL SOUP\n",
      "A wonderful dish to eat when you are hungry from all the scarping.\n"
     ]
    }
   ],
   "source": [
    "create_recipe('Beautiful Soup', soup_desc)   # order is important\n",
    "# positional argument & required"
   ]
  },
  {
   "cell_type": "code",
   "execution_count": 43,
   "metadata": {},
   "outputs": [
    {
     "name": "stdout",
     "output_type": "stream",
     "text": [
      "Recipe for: BEAUTIFUL SOUP\n",
      "A wonderful dish to eat when you are hungry from all the scarping.\n"
     ]
    }
   ],
   "source": [
    "create_recipe(description=soup_desc, title='Beautiful Soup')\n",
    "# keyword arguments & required"
   ]
  },
  {
   "cell_type": "code",
   "execution_count": 46,
   "metadata": {},
   "outputs": [
    {
     "name": "stdout",
     "output_type": "stream",
     "text": [
      "Recipe for: BEAUTIFUL SOUP\n",
      "A wonderful dish to eat when you are hungry from all the scarping.\n"
     ]
    }
   ],
   "source": [
    "create_recipe('Beautiful Soup', description=soup_desc)  # all positional arguments come first"
   ]
  },
  {
   "cell_type": "code",
   "execution_count": null,
   "metadata": {},
   "outputs": [],
   "source": []
  },
  {
   "cell_type": "code",
   "execution_count": null,
   "metadata": {},
   "outputs": [],
   "source": []
  },
  {
   "cell_type": "code",
   "execution_count": null,
   "metadata": {},
   "outputs": [],
   "source": []
  },
  {
   "cell_type": "markdown",
   "metadata": {},
   "source": [
    "### 3.2. OPTIONAL Parameters"
   ]
  },
  {
   "cell_type": "code",
   "execution_count": 47,
   "metadata": {},
   "outputs": [],
   "source": [
    "def create_recipe(title, description, no_people=4):\n",
    "    \"\"\" \"\"\"\n",
    "    \n",
    "    print(f\"Recipe for: {title.upper()}\")\n",
    "    print(description)\n",
    "    print(f\"This dish serves {no_people} hungry programmers.\")"
   ]
  },
  {
   "cell_type": "code",
   "execution_count": 49,
   "metadata": {},
   "outputs": [
    {
     "name": "stdout",
     "output_type": "stream",
     "text": [
      "Recipe for: BEAUTIFUL SOUP\n",
      "A wonderful dish to eat when you are hungry from all the scarping.\n",
      "This dish serves 8 hungry programmers.\n"
     ]
    }
   ],
   "source": [
    "create_recipe('Beautiful Soup', soup_desc, 8)"
   ]
  },
  {
   "cell_type": "markdown",
   "metadata": {},
   "source": [
    "Don't put mutable arguments as defaults.   \n",
    "Also be aware if mutable variables are changed inside the function, this will have an effect on the variable outside the function."
   ]
  },
  {
   "cell_type": "code",
   "execution_count": null,
   "metadata": {},
   "outputs": [],
   "source": [
    "# mutable datatypes: \n",
    "- list, pd.DataFrame"
   ]
  },
  {
   "cell_type": "code",
   "execution_count": null,
   "metadata": {},
   "outputs": [],
   "source": []
  },
  {
   "cell_type": "markdown",
   "metadata": {},
   "source": [
    "### 3.3. ARGS and KWARGS"
   ]
  },
  {
   "cell_type": "code",
   "execution_count": 50,
   "metadata": {},
   "outputs": [],
   "source": [
    "# (un-) packing operator\n",
    "items = [1, 2, 3]"
   ]
  },
  {
   "cell_type": "code",
   "execution_count": 51,
   "metadata": {},
   "outputs": [
    {
     "name": "stdout",
     "output_type": "stream",
     "text": [
      "[1, 2, 3]\n"
     ]
    }
   ],
   "source": [
    "print(items)"
   ]
  },
  {
   "cell_type": "code",
   "execution_count": 52,
   "metadata": {},
   "outputs": [
    {
     "name": "stdout",
     "output_type": "stream",
     "text": [
      "1 2 3\n"
     ]
    }
   ],
   "source": [
    "print(*items)"
   ]
  },
  {
   "cell_type": "code",
   "execution_count": 54,
   "metadata": {},
   "outputs": [
    {
     "name": "stdout",
     "output_type": "stream",
     "text": [
      "1 2 3\n"
     ]
    }
   ],
   "source": [
    "# same as:\n",
    "print(items[0], items[1], items[2])"
   ]
  },
  {
   "cell_type": "code",
   "execution_count": null,
   "metadata": {},
   "outputs": [],
   "source": []
  },
  {
   "cell_type": "code",
   "execution_count": 70,
   "metadata": {},
   "outputs": [],
   "source": [
    "def create_recipe(title, description, *args, no_people=4,):\n",
    "    \"\"\" \"\"\"\n",
    "    \n",
    "    print(f\"Recipe for: {title.upper()}\")\n",
    "    print(description)\n",
    "    print(f\"This dish serves {no_people} hungry programmers.\")\n",
    "    print(f\"And you will need these ingredients: {args}\")"
   ]
  },
  {
   "cell_type": "code",
   "execution_count": 71,
   "metadata": {},
   "outputs": [
    {
     "name": "stdout",
     "output_type": "stream",
     "text": [
      "Recipe for: BEAUTIFUL SOUP\n",
      "A wonderful dish to eat when you are hungry from all the scarping.\n",
      "This dish serves 4 hungry programmers.\n",
      "And you will need these ingredients: ('onion', 'broth')\n"
     ]
    }
   ],
   "source": [
    "create_recipe('Beautiful Soup', soup_desc, \"onion\", \"broth\")"
   ]
  },
  {
   "cell_type": "code",
   "execution_count": null,
   "metadata": {},
   "outputs": [],
   "source": []
  },
  {
   "cell_type": "code",
   "execution_count": 72,
   "metadata": {},
   "outputs": [],
   "source": [
    "def create_recipe(title, description, no_people=4, **kwargs,):\n",
    "    \"\"\" \"\"\"\n",
    "    \n",
    "    print(f\"Recipe for: {title.upper()}\")\n",
    "    print(description)\n",
    "    print(f\"This dish serves {no_people} hungry programmers.\")\n",
    "    print(f\"And you will need these ingredients: {kwargs}\")"
   ]
  },
  {
   "cell_type": "code",
   "execution_count": 73,
   "metadata": {},
   "outputs": [
    {
     "name": "stdout",
     "output_type": "stream",
     "text": [
      "Recipe for: BEAUTIFUL SOUP\n",
      "A wonderful dish to eat when you are hungry from all the scarping.\n",
      "This dish serves 4 hungry programmers.\n",
      "And you will need these ingredients: {'veggie': 'onion', 'base': 'broth'}\n"
     ]
    }
   ],
   "source": [
    "create_recipe('Beautiful Soup', soup_desc, veggie=\"onion\", base=\"broth\")"
   ]
  },
  {
   "cell_type": "code",
   "execution_count": null,
   "metadata": {},
   "outputs": [],
   "source": []
  },
  {
   "cell_type": "code",
   "execution_count": null,
   "metadata": {},
   "outputs": [],
   "source": []
  },
  {
   "cell_type": "code",
   "execution_count": null,
   "metadata": {},
   "outputs": [],
   "source": []
  },
  {
   "cell_type": "markdown",
   "metadata": {},
   "source": [
    "## 4. Return values and what is scope 🌎"
   ]
  },
  {
   "cell_type": "markdown",
   "metadata": {},
   "source": [
    "- A function in Python always returns something, but if you do not tell it what to return it will return `None`\n",
    "- Usually a function will have (at least one) `return`-statement"
   ]
  },
  {
   "cell_type": "code",
   "execution_count": 88,
   "metadata": {},
   "outputs": [],
   "source": [
    "var = \"I live outside the function   -> global\""
   ]
  },
  {
   "cell_type": "code",
   "execution_count": null,
   "metadata": {},
   "outputs": [],
   "source": []
  },
  {
   "cell_type": "code",
   "execution_count": 91,
   "metadata": {},
   "outputs": [],
   "source": [
    "def add_up(range_number, variab):\n",
    "    \"\"\"\"\"\"\n",
    "    \n",
    "    result = 0  # make sure that each time the function is called you start at 0.\n",
    "    for _ in range(range_number):\n",
    "        result += 0.673859\n",
    "    return result, range_number"
   ]
  },
  {
   "cell_type": "code",
   "execution_count": 93,
   "metadata": {},
   "outputs": [
    {
     "name": "stdout",
     "output_type": "stream",
     "text": [
      "(3.369295, 5)\n"
     ]
    }
   ],
   "source": [
    "print(add_up(5, var))"
   ]
  },
  {
   "cell_type": "code",
   "execution_count": 82,
   "metadata": {},
   "outputs": [],
   "source": [
    "result2 = add_up(5)"
   ]
  },
  {
   "cell_type": "code",
   "execution_count": 83,
   "metadata": {},
   "outputs": [
    {
     "data": {
      "text/plain": [
       "3.369295"
      ]
     },
     "execution_count": 83,
     "metadata": {},
     "output_type": "execute_result"
    }
   ],
   "source": [
    "result2"
   ]
  },
  {
   "cell_type": "code",
   "execution_count": 95,
   "metadata": {},
   "outputs": [
    {
     "data": {
      "text/plain": [
       "(3.369295, 5)"
      ]
     },
     "execution_count": 95,
     "metadata": {},
     "output_type": "execute_result"
    }
   ],
   "source": [
    "res3 = add_up(5, 3)\n",
    "res3"
   ]
  },
  {
   "cell_type": "code",
   "execution_count": null,
   "metadata": {},
   "outputs": [],
   "source": []
  },
  {
   "cell_type": "code",
   "execution_count": null,
   "metadata": {},
   "outputs": [],
   "source": []
  },
  {
   "cell_type": "code",
   "execution_count": null,
   "metadata": {},
   "outputs": [],
   "source": []
  },
  {
   "cell_type": "code",
   "execution_count": null,
   "metadata": {},
   "outputs": [],
   "source": []
  },
  {
   "cell_type": "code",
   "execution_count": null,
   "metadata": {},
   "outputs": [],
   "source": []
  },
  {
   "cell_type": "code",
   "execution_count": null,
   "metadata": {},
   "outputs": [],
   "source": []
  },
  {
   "cell_type": "code",
   "execution_count": null,
   "metadata": {},
   "outputs": [],
   "source": []
  },
  {
   "cell_type": "code",
   "execution_count": 96,
   "metadata": {},
   "outputs": [],
   "source": [
    "from sklearn.feature_extraction.text import CountVectorizer, TfidfTransformer\n",
    "from sklearn.naive_bayes import MultinomialNB\n",
    "from sklearn.pipeline import make_pipeline"
   ]
  },
  {
   "cell_type": "code",
   "execution_count": 97,
   "metadata": {},
   "outputs": [],
   "source": [
    "songs = [\n",
    "    'Under my umbrella ella ella ella' ,\n",
    "    'Shine bright like a diamond!',\n",
    "    'Love the way you lie',\n",
    "    'There is a house in New Orleans, they called the rising sun',\n",
    "    'Fire on the sun',\n",
    "    'Please dont let be misunderstood']\n",
    "labels = ['rihanna']*3 + ['the animals']*3"
   ]
  },
  {
   "cell_type": "code",
   "execution_count": 98,
   "metadata": {},
   "outputs": [],
   "source": [
    "def train_model(text, artists, stop_words = 'english', **kwargs):\n",
    "    \"\"\"\n",
    "    This function preprocesses the input-data with a CountVectorizer and \n",
    "    a tfidf-transformer and trains a Naive Bayes model.\n",
    "    \n",
    "    Parameters\n",
    "    ----------\n",
    "    text : array_like\n",
    "        List of documents/songs as strings.\n",
    "        \n",
    "    artists : array_like\n",
    "        List of labels/artists as strings.\n",
    "    \n",
    "    stop_words: str\n",
    "        String that specifies the language of the stopwords for \n",
    "        the CountVectorizer\n",
    "    \n",
    "    **kwargs: Arbitrary keyword arguments passed as hyperparamters for MultinomialNB.\n",
    "\n",
    "    Returns\n",
    "    -------\n",
    "    A pre-trained sklearn.naive_bayes.MultinomialNB classification model.\n",
    "    \"\"\"\n",
    "    \n",
    "    cv = CountVectorizer(stop_words=stop_words)\n",
    "    tf = TfidfTransformer()\n",
    "    m = MultinomialNB(**kwargs)\n",
    "    pipeline = make_pipeline(cv, tf, m)\n",
    "    pipeline.fit(text, artists)\n",
    "    return pipeline"
   ]
  },
  {
   "cell_type": "code",
   "execution_count": 99,
   "metadata": {},
   "outputs": [],
   "source": [
    "m = train_model(songs, labels, alpha=3.0)"
   ]
  },
  {
   "cell_type": "code",
   "execution_count": null,
   "metadata": {},
   "outputs": [],
   "source": [
    "m.predict...."
   ]
  },
  {
   "cell_type": "code",
   "execution_count": null,
   "metadata": {},
   "outputs": [],
   "source": []
  },
  {
   "cell_type": "markdown",
   "metadata": {},
   "source": [
    "# What you can do with this knowledge: 💡\n",
    "- check out Recap-Exercise in Course Material if you'd like to practise functions in general\n",
    "- When you have some working code for the project, try putting it into functions: "
   ]
  },
  {
   "cell_type": "markdown",
   "metadata": {},
   "source": [
    "### Checklist for functions: ✅\n",
    "\n",
    "- does it do one thing only? \n",
    "- does it have a docstring?\n",
    "- does it have a good name? (action or verb, lowercase) \n",
    "- And good variable-names?\n",
    "- no global variables referenced? all parameters passed? -> Abstract away all hardcoded values\n",
    "- have you tested it with different inputs?\n",
    "\n",
    "\n",
    "You can combine multiple functions in one function to rule them all 🧝‍♂️"
   ]
  },
  {
   "cell_type": "code",
   "execution_count": null,
   "metadata": {},
   "outputs": [],
   "source": []
  }
 ],
 "metadata": {
  "kernelspec": {
   "display_name": "Python 3",
   "language": "python",
   "name": "python3"
  },
  "language_info": {
   "codemirror_mode": {
    "name": "ipython",
    "version": 3
   },
   "file_extension": ".py",
   "mimetype": "text/x-python",
   "name": "python",
   "nbconvert_exporter": "python",
   "pygments_lexer": "ipython3",
   "version": "3.8.5"
  }
 },
 "nbformat": 4,
 "nbformat_minor": 4
}
