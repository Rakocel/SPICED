{
 "cells": [
  {
   "cell_type": "markdown",
   "metadata": {},
   "source": [
    "# **Project: Analyze The Northwind Dataset**\n",
    "+ After uploading the northwind Data in a AWS RD2-Cloud-Database with PostgreSQL the following commands were used to analyze the data\n",
    "+ The data is about “Northwind Traders”, a fictional company. The database contains all sales transactions between the company and its customers as well as purchases from Northwinds suppliers.\n",
    "+ creating different views, combine data, discover dependencies\n",
    "+ the results are published within the BI Tool Metabase on AWS EC2 Server\n",
    "+ The Dashboard can be inspeced under the following link: \n",
    "http://ec2-3-65-24-67.eu-central-1.compute.amazonaws.com/public/dashboard/84b5dcfa-d3b6-4e73-82d6-7a409fc7d68a"
   ]
  },
  {
   "cell_type": "markdown",
   "metadata": {},
   "source": [
    "### 1. Get the names and the quantities in stock for each product."
   ]
  },
  {
   "cell_type": "code",
   "execution_count": null,
   "metadata": {},
   "outputs": [],
   "source": [
    "SELECT productname, unitsinstock \n",
    "FROM products;"
   ]
  },
  {
   "cell_type": "markdown",
   "metadata": {},
   "source": [
    "### 2. Get a list of current products (Product ID and name)."
   ]
  },
  {
   "cell_type": "code",
   "execution_count": null,
   "metadata": {},
   "outputs": [],
   "source": [
    "SELECT productid, productname \n",
    "FROM products;"
   ]
  },
  {
   "cell_type": "markdown",
   "metadata": {},
   "source": [
    "### 3. Get a list of the most and least expensive products (name and unit price)."
   ]
  },
  {
   "cell_type": "code",
   "execution_count": null,
   "metadata": {},
   "outputs": [],
   "source": [
    "\n",
    "SELECT productname, unitprice FROM products \n",
    "WHERE unitprice = (SELECT MAX(unitprice) FROM products) OR unitprice = (SELECT MIN(unitprice) FROM products);"
   ]
  },
  {
   "cell_type": "markdown",
   "metadata": {},
   "source": [
    "### 4. Get products that cost less than $20."
   ]
  },
  {
   "cell_type": "code",
   "execution_count": null,
   "metadata": {},
   "outputs": [],
   "source": [
    "SELECT productname, unitprice FROM products \n",
    "WHERE products.unitprice < 20;"
   ]
  },
  {
   "cell_type": "markdown",
   "metadata": {},
   "source": [
    "### 5. Get products that cost between $15 and $25."
   ]
  },
  {
   "cell_type": "code",
   "execution_count": null,
   "metadata": {},
   "outputs": [],
   "source": [
    "SELECT productname, unitprice FROM products \n",
    "WHERE products.unitprice BETWEEN 15 AND 25;"
   ]
  },
  {
   "cell_type": "markdown",
   "metadata": {},
   "source": [
    "### 6. Get products above average price."
   ]
  },
  {
   "cell_type": "code",
   "execution_count": null,
   "metadata": {},
   "outputs": [],
   "source": [
    "SELECT productname, unitprice FROM products \n",
    "WHERE products.unitprice > (SELECT AVG(unitprice) FROM products);"
   ]
  },
  {
   "cell_type": "markdown",
   "metadata": {},
   "source": [
    "### 7. Find the ten most expensive products."
   ]
  },
  {
   "cell_type": "code",
   "execution_count": null,
   "metadata": {},
   "outputs": [],
   "source": [
    "SELECT productname, unitprice FROM products \n",
    "ORDER BY products.unitprice DESC\n",
    "LIMIT 10;"
   ]
  },
  {
   "cell_type": "markdown",
   "metadata": {},
   "source": [
    "### 8. Get a list of discontinued products (Product ID and name)."
   ]
  },
  {
   "cell_type": "code",
   "execution_count": null,
   "metadata": {},
   "outputs": [],
   "source": [
    "SELECT productid, productname  FROM products\n",
    "WHERE products.discontinued = 1;"
   ]
  },
  {
   "cell_type": "markdown",
   "metadata": {},
   "source": [
    "### 9. Count current and discontinued products."
   ]
  },
  {
   "cell_type": "code",
   "execution_count": null,
   "metadata": {},
   "outputs": [],
   "source": [
    "SELECT SUM(discontinued) AS number_discontinued , (COUNT(discontinued)-SUM(discontinued)) AS number_current FROM products;"
   ]
  },
  {
   "cell_type": "markdown",
   "metadata": {},
   "source": [
    "### 10. Find products with less units in stock than the quantity on order."
   ]
  },
  {
   "cell_type": "code",
   "execution_count": null,
   "metadata": {},
   "outputs": [],
   "source": [
    "SELECT productname, unitsInStock, unitsOnOrder  FROM products\n",
    "WHERE products.unitsInStock < products.unitsOnOrder;\n"
   ]
  },
  {
   "cell_type": "markdown",
   "metadata": {},
   "source": [
    "### 11. Find the customer who had the highest order amount"
   ]
  },
  {
   "cell_type": "code",
   "execution_count": null,
   "metadata": {},
   "outputs": [],
   "source": [
    "CREATE VIEW customer_order AS\n",
    "SELECT cu.contactName, o.orderID \n",
    "FROM customers AS cu\n",
    "FULL JOIN orders AS o\n",
    "ON cu.customerID = o.customerID;\n",
    "\n",
    "SELECT DISTINCT co.contactName, od.quantity\n",
    "FROM customer_order AS co \n",
    "FULL JOIN order_details AS od\n",
    "ON co.orderID = od.orderID\n",
    "WHERE quantity = (SELECT MAX(quantity) FROM order_details);\n"
   ]
  },
  {
   "cell_type": "markdown",
   "metadata": {},
   "source": [
    "### 12. Get orders for a given employee and the according customer"
   ]
  },
  {
   "cell_type": "code",
   "execution_count": null,
   "metadata": {},
   "outputs": [],
   "source": [
    "CREATE VIEW employee_orders AS\n",
    "SELECT employees.lastName, employees.firstName, orders.customerID, orders.orderID\n",
    "FROM employees \n",
    "FULL JOIN orders \n",
    "ON employees.employeeID = orders.employeeID;\n",
    "\n",
    "CREATE VIEW emp_ord_odet AS\n",
    "SELECT employee_orders.lastName, employee_orders.firstName, employee_orders.customerID, order_details.productID, order_details.unitPrice, order_details.quantity, order_details.discount\n",
    "FROM employee_orders\n",
    "FULL JOIN order_details \n",
    "ON employee_orders.orderID = order_details.orderID;\n",
    "\n",
    "CREATE VIEW emp_product AS\n",
    "SELECT emp_ord_odet.lastName, emp_ord_odet.firstName, emp_ord_odet.customerID,products.productName, emp_ord_odet.unitPrice, emp_ord_odet.quantity, emp_ord_odet.discount \n",
    "FROM emp_ord_odet\n",
    "FULL JOIN products\n",
    "ON emp_ord_odet.productID = products.productID;\n",
    "\n",
    "SELECT emp_product.lastName AS EmployeeLastName, emp_product.firstName AS EmployeeFirstName, customers.contactName AS CustomerName, emp_product.productName, emp_product.unitPrice, emp_product.quantity, emp_product.discount \n",
    "FROM emp_product\n",
    "FULL JOIN customers\n",
    "ON emp_product.customerID = customers.customerID\n",
    "ORDER BY EmployeeLastName ASC"
   ]
  },
  {
   "cell_type": "markdown",
   "metadata": {},
   "source": [
    "### 13. Find the hiring age of each employee"
   ]
  },
  {
   "cell_type": "code",
   "execution_count": null,
   "metadata": {},
   "outputs": [],
   "source": [
    "SELECT firstName, lastName, DATE_PART('year', age(hireDat, birthDate))  AS HireAge FROM employees"
   ]
  },
  {
   "cell_type": "markdown",
   "metadata": {},
   "source": [
    "### 14. Create views and/or named queries for some of these queries"
   ]
  },
  {
   "cell_type": "code",
   "execution_count": null,
   "metadata": {},
   "outputs": [],
   "source": [
    "CREATE VIEW employee_hireage AS\n",
    "SELECT firstName, lastName, DATE_PART('year', age(hireDate, birthDate))  AS HireAge FROM employees\n",
    "\n"
   ]
  },
  {
   "cell_type": "markdown",
   "metadata": {},
   "source": [
    "### 15. Count total number of products"
   ]
  },
  {
   "cell_type": "code",
   "execution_count": null,
   "metadata": {},
   "outputs": [],
   "source": [
    "SELECT COUNT(productID) AS NumberOfProducts FROM products"
   ]
  },
  {
   "cell_type": "markdown",
   "metadata": {},
   "source": [
    "### 16. Separate currently available and discontinued products"
   ]
  },
  {
   "cell_type": "code",
   "execution_count": null,
   "metadata": {},
   "outputs": [],
   "source": [
    "SELECT SUM(discontinued) AS number_discontinued , (COUNT(discontinued)-SUM(discontinued)) AS number_current FROM products;"
   ]
  },
  {
   "cell_type": "markdown",
   "metadata": {},
   "source": [
    "### 17. Frequently ordered products"
   ]
  },
  {
   "cell_type": "code",
   "execution_count": null,
   "metadata": {},
   "outputs": [],
   "source": [
    "SELECT productname, unitsOnOrder FROM products\n",
    "ORDER BY products.unitsOnOrder DESC"
   ]
  },
  {
   "cell_type": "markdown",
   "metadata": {},
   "source": [
    "### 18. Relative amount"
   ]
  },
  {
   "cell_type": "code",
   "execution_count": null,
   "metadata": {},
   "outputs": [],
   "source": [
    "SELECT productname, (ROUND(unitsOnOrder*100.0 / (SELECT SUM(unitsOnOrder) FROM products),2)) AS percentage FROM products\n",
    "ORDER BY percentage DESC"
   ]
  },
  {
   "cell_type": "markdown",
   "metadata": {},
   "source": [
    "### 19. Search your country (or a country of choice)"
   ]
  },
  {
   "cell_type": "code",
   "execution_count": null,
   "metadata": {},
   "outputs": [],
   "source": [
    "SELECT * FROM customers\n",
    "WHERE customers.country = 'Germany'"
   ]
  },
  {
   "cell_type": "code",
   "execution_count": null,
   "metadata": {},
   "outputs": [],
   "source": [
    "how many products by supplier"
   ]
  },
  {
   "cell_type": "code",
   "execution_count": null,
   "metadata": {},
   "outputs": [],
   "source": [
    "CREATE VIEW Product_suppliers AS\n",
    "SELECT products.productname , products.unitprice, products.unitsinstock, products.unitsonorder, products.discontinued, suppliers.companyname, suppliers.contactname, suppliers.country\n",
    "FROM products\n",
    "FULL JOIN suppliers\n",
    "ON products.supplierid = suppliers.supplierid"
   ]
  }
 ],
 "metadata": {
  "kernelspec": {
   "display_name": "Python 3",
   "language": "python",
   "name": "python3"
  },
  "language_info": {
   "codemirror_mode": {
    "name": "ipython",
    "version": 3
   },
   "file_extension": ".py",
   "mimetype": "text/x-python",
   "name": "python",
   "nbconvert_exporter": "python",
   "pygments_lexer": "ipython3",
   "version": "3.8.5"
  }
 },
 "nbformat": 4,
 "nbformat_minor": 4
}
