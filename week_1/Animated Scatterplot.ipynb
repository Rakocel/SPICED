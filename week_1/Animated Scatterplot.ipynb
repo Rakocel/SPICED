{
 "cells": [
  {
   "cell_type": "markdown",
   "metadata": {},
   "source": [
    "# **Project: Animated Scatter Plot**\n",
    "+ Show the life expectancy over the fertility rate for a set of countries"
   ]
  },
  {
   "cell_type": "markdown",
   "metadata": {},
   "source": [
    "### Imports"
   ]
  },
  {
   "cell_type": "code",
   "execution_count": 2,
   "metadata": {},
   "outputs": [],
   "source": [
    "import pandas as pd\n",
    "import seaborn as sns\n",
    "import matplotlib.pyplot as plt\n",
    "import imageio"
   ]
  },
  {
   "cell_type": "markdown",
   "metadata": {},
   "source": [
    "### Reading Files"
   ]
  },
  {
   "cell_type": "code",
   "execution_count": 3,
   "metadata": {},
   "outputs": [],
   "source": [
    "fert = pd.read_csv('data/gapminder_total_fertility.csv', index_col=0)\n",
    "life = pd.read_excel('data/gapminder_lifeexpectancy.xlsx', index_col=0)\n",
    "pop = pd.read_excel ('data/gapminder_population.xlsx', index_col=0)"
   ]
  },
  {
   "cell_type": "markdown",
   "metadata": {},
   "source": [
    "### Check Size of the imported files"
   ]
  },
  {
   "cell_type": "code",
   "execution_count": 3,
   "metadata": {},
   "outputs": [
    {
     "data": {
      "text/plain": [
       "((260, 216), (260, 217), (275, 81))"
      ]
     },
     "execution_count": 3,
     "metadata": {},
     "output_type": "execute_result"
    }
   ],
   "source": [
    "fert.shape, life.shape, pop.shape"
   ]
  },
  {
   "cell_type": "markdown",
   "metadata": {},
   "source": [
    "### Check column type and change fertility Type to 'int'"
   ]
  },
  {
   "cell_type": "code",
   "execution_count": 4,
   "metadata": {},
   "outputs": [
    {
     "data": {
      "text/plain": [
       "(Index(['1800', '1801', '1802', '1803', '1804', '1805', '1806', '1807', '1808',\n",
       "        '1809',\n",
       "        ...\n",
       "        '2006', '2007', '2008', '2009', '2010', '2011', '2012', '2013', '2014',\n",
       "        '2015'],\n",
       "       dtype='object', length=216),\n",
       " Int64Index([1800, 1801, 1802, 1803, 1804, 1805, 1806, 1807, 1808, 1809,\n",
       "             ...\n",
       "             2007, 2008, 2009, 2010, 2011, 2012, 2013, 2014, 2015, 2016],\n",
       "            dtype='int64', length=217),\n",
       " Int64Index([1800, 1810, 1820, 1830, 1840, 1850, 1860, 1870, 1880, 1890, 1900,\n",
       "             1910, 1920, 1930, 1940, 1950, 1951, 1952, 1953, 1954, 1955, 1956,\n",
       "             1957, 1958, 1959, 1960, 1961, 1962, 1963, 1964, 1965, 1966, 1967,\n",
       "             1968, 1969, 1970, 1971, 1972, 1973, 1974, 1975, 1976, 1977, 1978,\n",
       "             1979, 1980, 1981, 1982, 1983, 1984, 1985, 1986, 1987, 1988, 1989,\n",
       "             1990, 1991, 1992, 1993, 1994, 1995, 1996, 1997, 1998, 1999, 2000,\n",
       "             2001, 2002, 2003, 2004, 2005, 2006, 2007, 2008, 2009, 2010, 2011,\n",
       "             2012, 2013, 2014, 2015],\n",
       "            dtype='int64'))"
      ]
     },
     "execution_count": 4,
     "metadata": {},
     "output_type": "execute_result"
    }
   ],
   "source": [
    "fert.columns, life.columns, pop.columns"
   ]
  },
  {
   "cell_type": "code",
   "execution_count": 5,
   "metadata": {},
   "outputs": [
    {
     "data": {
      "text/plain": [
       "Int64Index([1800, 1801, 1802, 1803, 1804, 1805, 1806, 1807, 1808, 1809,\n",
       "            ...\n",
       "            2006, 2007, 2008, 2009, 2010, 2011, 2012, 2013, 2014, 2015],\n",
       "           dtype='int64', length=216)"
      ]
     },
     "execution_count": 5,
     "metadata": {},
     "output_type": "execute_result"
    }
   ],
   "source": [
    "fert.columns = fert.columns.astype(int)\n",
    "fert.columns"
   ]
  },
  {
   "cell_type": "markdown",
   "metadata": {},
   "source": [
    "### Change index name to 'country' and check if changes are applied"
   ]
  },
  {
   "cell_type": "code",
   "execution_count": 6,
   "metadata": {},
   "outputs": [
    {
     "data": {
      "text/plain": [
       "(Index(['Abkhazia', 'Afghanistan', 'Akrotiri and Dhekelia', 'Albania',\n",
       "        'Algeria', 'American Samoa', 'Andorra', 'Angola', 'Anguilla',\n",
       "        'Antigua and Barbuda',\n",
       "        ...\n",
       "        'Vietnam', 'Virgin Islands (U.S.)', 'North Yemen (former)',\n",
       "        'South Yemen (former)', 'Yemen', 'Yugoslavia', 'Zambia', 'Zimbabwe',\n",
       "        'Åland', 'Åland'],\n",
       "       dtype='object', name='country', length=260),\n",
       " Index(['Abkhazia', 'Afghanistan', 'Akrotiri and Dhekelia', 'Albania',\n",
       "        'Algeria', 'American Samoa', 'Andorra', 'Angola', 'Anguilla',\n",
       "        'Antigua and Barbuda',\n",
       "        ...\n",
       "        'Vietnam', 'Virgin Islands (U.S.)', 'North Yemen (former)',\n",
       "        'South Yemen (former)', 'Yemen', 'Yugoslavia', 'Zambia', 'Zimbabwe',\n",
       "        'Åland', 'South Sudan'],\n",
       "       dtype='object', name='country', length=260),\n",
       " Index(['Abkhazia', 'Afghanistan', 'Akrotiri and Dhekelia', 'Albania',\n",
       "        'Algeria', 'American Samoa', 'Andorra', 'Angola', 'Anguilla',\n",
       "        'Antigua and Barbuda',\n",
       "        ...\n",
       "        'British Indian Ocean Territory', 'Clipperton',\n",
       "        'French Southern and Antarctic Lands', 'Gaza Strip',\n",
       "        'Heard and McDonald Islands', 'Northern Marianas',\n",
       "        'South Georgia and the South Sandwich Islands',\n",
       "        'US Minor Outlying Islands', 'Virgin Islands', 'West Bank'],\n",
       "       dtype='object', name='country', length=275))"
      ]
     },
     "execution_count": 6,
     "metadata": {},
     "output_type": "execute_result"
    }
   ],
   "source": [
    "fert.index.name= 'country'\n",
    "life.index.name= 'country'\n",
    "pop.index.name= 'country'\n",
    "\n",
    "fert.index, life.index, pop.index"
   ]
  },
  {
   "cell_type": "markdown",
   "metadata": {},
   "source": [
    "### Move index to a column to convert tables into long format"
   ]
  },
  {
   "cell_type": "code",
   "execution_count": 7,
   "metadata": {},
   "outputs": [],
   "source": [
    "fert = fert.reset_index()\n",
    "life = life.reset_index()\n",
    "pop = pop.reset_index()"
   ]
  },
  {
   "cell_type": "markdown",
   "metadata": {},
   "source": [
    "### Convert into long format"
   ]
  },
  {
   "cell_type": "code",
   "execution_count": 8,
   "metadata": {},
   "outputs": [],
   "source": [
    "fert = fert.melt(id_vars='country', var_name='year', value_name='fertility_rate')"
   ]
  },
  {
   "cell_type": "code",
   "execution_count": 9,
   "metadata": {},
   "outputs": [],
   "source": [
    "life = life.melt(id_vars='country', var_name='year', value_name='life_expectancy')"
   ]
  },
  {
   "cell_type": "code",
   "execution_count": 10,
   "metadata": {},
   "outputs": [],
   "source": [
    "pop = pop.melt(id_vars='country', var_name='year', value_name='population')"
   ]
  },
  {
   "cell_type": "markdown",
   "metadata": {},
   "source": [
    "### Merge the three tables into one and show"
   ]
  },
  {
   "cell_type": "code",
   "execution_count": 11,
   "metadata": {},
   "outputs": [],
   "source": [
    "df = fert.merge(pop)"
   ]
  },
  {
   "cell_type": "code",
   "execution_count": 12,
   "metadata": {},
   "outputs": [],
   "source": [
    "df_1 = df.merge(life)"
   ]
  },
  {
   "cell_type": "code",
   "execution_count": 13,
   "metadata": {},
   "outputs": [
    {
     "data": {
      "text/html": [
       "<div>\n",
       "<style scoped>\n",
       "    .dataframe tbody tr th:only-of-type {\n",
       "        vertical-align: middle;\n",
       "    }\n",
       "\n",
       "    .dataframe tbody tr th {\n",
       "        vertical-align: top;\n",
       "    }\n",
       "\n",
       "    .dataframe thead th {\n",
       "        text-align: right;\n",
       "    }\n",
       "</style>\n",
       "<table border=\"1\" class=\"dataframe\">\n",
       "  <thead>\n",
       "    <tr style=\"text-align: right;\">\n",
       "      <th></th>\n",
       "      <th>country</th>\n",
       "      <th>year</th>\n",
       "      <th>fertility_rate</th>\n",
       "      <th>population</th>\n",
       "      <th>life_expectancy</th>\n",
       "    </tr>\n",
       "  </thead>\n",
       "  <tbody>\n",
       "    <tr>\n",
       "      <th>0</th>\n",
       "      <td>Abkhazia</td>\n",
       "      <td>1800</td>\n",
       "      <td>NaN</td>\n",
       "      <td>NaN</td>\n",
       "      <td>NaN</td>\n",
       "    </tr>\n",
       "    <tr>\n",
       "      <th>1</th>\n",
       "      <td>Afghanistan</td>\n",
       "      <td>1800</td>\n",
       "      <td>7.00</td>\n",
       "      <td>3280000.0</td>\n",
       "      <td>28.21</td>\n",
       "    </tr>\n",
       "    <tr>\n",
       "      <th>2</th>\n",
       "      <td>Akrotiri and Dhekelia</td>\n",
       "      <td>1800</td>\n",
       "      <td>NaN</td>\n",
       "      <td>NaN</td>\n",
       "      <td>NaN</td>\n",
       "    </tr>\n",
       "    <tr>\n",
       "      <th>3</th>\n",
       "      <td>Albania</td>\n",
       "      <td>1800</td>\n",
       "      <td>4.60</td>\n",
       "      <td>410445.0</td>\n",
       "      <td>35.40</td>\n",
       "    </tr>\n",
       "    <tr>\n",
       "      <th>4</th>\n",
       "      <td>Algeria</td>\n",
       "      <td>1800</td>\n",
       "      <td>6.99</td>\n",
       "      <td>2503218.0</td>\n",
       "      <td>28.82</td>\n",
       "    </tr>\n",
       "    <tr>\n",
       "      <th>...</th>\n",
       "      <td>...</td>\n",
       "      <td>...</td>\n",
       "      <td>...</td>\n",
       "      <td>...</td>\n",
       "      <td>...</td>\n",
       "    </tr>\n",
       "    <tr>\n",
       "      <th>20974</th>\n",
       "      <td>Yugoslavia</td>\n",
       "      <td>2015</td>\n",
       "      <td>NaN</td>\n",
       "      <td>NaN</td>\n",
       "      <td>NaN</td>\n",
       "    </tr>\n",
       "    <tr>\n",
       "      <th>20975</th>\n",
       "      <td>Zambia</td>\n",
       "      <td>2015</td>\n",
       "      <td>5.59</td>\n",
       "      <td>16211767.0</td>\n",
       "      <td>56.70</td>\n",
       "    </tr>\n",
       "    <tr>\n",
       "      <th>20976</th>\n",
       "      <td>Zimbabwe</td>\n",
       "      <td>2015</td>\n",
       "      <td>3.35</td>\n",
       "      <td>15602751.0</td>\n",
       "      <td>59.30</td>\n",
       "    </tr>\n",
       "    <tr>\n",
       "      <th>20977</th>\n",
       "      <td>Åland</td>\n",
       "      <td>2015</td>\n",
       "      <td>NaN</td>\n",
       "      <td>NaN</td>\n",
       "      <td>NaN</td>\n",
       "    </tr>\n",
       "    <tr>\n",
       "      <th>20978</th>\n",
       "      <td>Åland</td>\n",
       "      <td>2015</td>\n",
       "      <td>NaN</td>\n",
       "      <td>NaN</td>\n",
       "      <td>NaN</td>\n",
       "    </tr>\n",
       "  </tbody>\n",
       "</table>\n",
       "<p>20979 rows × 5 columns</p>\n",
       "</div>"
      ],
      "text/plain": [
       "                     country  year  fertility_rate  population  \\\n",
       "0                   Abkhazia  1800             NaN         NaN   \n",
       "1                Afghanistan  1800            7.00   3280000.0   \n",
       "2      Akrotiri and Dhekelia  1800             NaN         NaN   \n",
       "3                    Albania  1800            4.60    410445.0   \n",
       "4                    Algeria  1800            6.99   2503218.0   \n",
       "...                      ...   ...             ...         ...   \n",
       "20974             Yugoslavia  2015             NaN         NaN   \n",
       "20975                 Zambia  2015            5.59  16211767.0   \n",
       "20976               Zimbabwe  2015            3.35  15602751.0   \n",
       "20977                  Åland  2015             NaN         NaN   \n",
       "20978                  Åland  2015             NaN         NaN   \n",
       "\n",
       "       life_expectancy  \n",
       "0                  NaN  \n",
       "1                28.21  \n",
       "2                  NaN  \n",
       "3                35.40  \n",
       "4                28.82  \n",
       "...                ...  \n",
       "20974              NaN  \n",
       "20975            56.70  \n",
       "20976            59.30  \n",
       "20977              NaN  \n",
       "20978              NaN  \n",
       "\n",
       "[20979 rows x 5 columns]"
      ]
     },
     "execution_count": 13,
     "metadata": {},
     "output_type": "execute_result"
    }
   ],
   "source": [
    "df_1"
   ]
  },
  {
   "cell_type": "markdown",
   "metadata": {},
   "source": [
    "### Take a subset of the data by choosing three countries. Create a line plot for the life expectancy over the years"
   ]
  },
  {
   "cell_type": "code",
   "execution_count": 14,
   "metadata": {},
   "outputs": [
    {
     "data": {
      "text/plain": [
       "<AxesSubplot:xlabel='year', ylabel='life_expectancy'>"
      ]
     },
     "execution_count": 14,
     "metadata": {},
     "output_type": "execute_result"
    },
    {
     "data": {
      "image/png": "[encoded data removed]",
      "text/plain": [
       "<Figure size 432x288 with 1 Axes>"
      ]
     },
     "metadata": {
      "needs_background": "light"
     },
     "output_type": "display_data"
    }
   ],
   "source": [
    "df_subset = df_1.loc[df['country'].isin(['France', 'Germany', 'Sweden'])]\n",
    "sns.lineplot(x='year', y='life_expectancy', hue='country',\n",
    "            data=df_subset)"
   ]
  },
  {
   "cell_type": "markdown",
   "metadata": {},
   "source": [
    "### Create a Scatterplot of the life expectancy over the years"
   ]
  },
  {
   "cell_type": "code",
   "execution_count": 15,
   "metadata": {},
   "outputs": [
    {
     "data": {
      "text/plain": [
       "<AxesSubplot:xlabel='year', ylabel='life_expectancy'>"
      ]
     },
     "execution_count": 15,
     "metadata": {},
     "output_type": "execute_result"
    },
    {
     "data": {
      "image/png": "[encoded data removed]",
      "text/plain": [
       "<Figure size 432x288 with 1 Axes>"
      ]
     },
     "metadata": {
      "needs_background": "light"
     },
     "output_type": "display_data"
    }
   ],
   "source": [
    "sns.scatterplot(x='year', y='life_expectancy', hue='country',\n",
    "            data=df_subset, alpha=0.6)"
   ]
  },
  {
   "cell_type": "markdown",
   "metadata": {},
   "source": [
    "### Create a Scatterplot of the life expectancy over the fertility rate "
   ]
  },
  {
   "cell_type": "code",
   "execution_count": 16,
   "metadata": {},
   "outputs": [
    {
     "data": {
      "text/plain": [
       "<AxesSubplot:xlabel='life_expectancy', ylabel='fertility_rate'>"
      ]
     },
     "execution_count": 16,
     "metadata": {},
     "output_type": "execute_result"
    },
    {
     "data": {
      "image/png": "[encoded data removed]",
      "text/plain": [
       "<Figure size 432x288 with 1 Axes>"
      ]
     },
     "metadata": {
      "needs_background": "light"
     },
     "output_type": "display_data"
    }
   ],
   "source": [
    "sns.scatterplot(x='life_expectancy', y='fertility_rate', hue='country',\n",
    "            data=df_subset)"
   ]
  },
  {
   "cell_type": "markdown",
   "metadata": {},
   "source": [
    "## Create Scatterplots for the years 1960 to 2015"
   ]
  },
  {
   "cell_type": "code",
   "execution_count": 36,
   "metadata": {},
   "outputs": [],
   "source": [
    "iteration= range(1960,2016)\n",
    "for i in iteration:\n",
    "    df_year = df_subset['year'] == i\n",
    "    df_filtered = df_subset[df_year]\n",
    "    # set axis for all plots\n",
    "    plt.axis((65.0, 85.0, 0.0, 3.0))\n",
    "    plt.title(\"Life Expectancy over Fertility Rate (1960-2015)\", fontsize=13)\n",
    "    plt.xlabel('Life Expectancy')\n",
    "    plt.ylabel('Fertility Rate')\n",
    "   # plt.figure(figsize=(100,40))\n",
    "    sns.set_style(\"whitegrid\")\n",
    "    g=sns.scatterplot(x='life_expectancy', y='fertility_rate',alpha= 0.6, hue='country',data=df_filtered, size = 'population', sizes=(50,800), palette= 'tab10')\n",
    "    h,l = g.get_legend_handles_labels()\n",
    "    plt.legend(h[1:4],l[1:4],title=\"Countries\", loc=\"lower right\", borderaxespad=0.5,frameon=True,fontsize=8,title_fontsize=12)\n",
    "    #safe images in a seperate folder\n",
    "    nametag = 'Scatter_Plots_Animation/Scatter_{}'.format(i)\n",
    "    plt.savefig(fname = nametag, format = 'png', dpi= 100)\n",
    "    plt.close()\n",
    "    "
   ]
  },
  {
   "cell_type": "markdown",
   "metadata": {},
   "source": [
    "### Create an animation by combining the seperate Scatterplots"
   ]
  },
  {
   "cell_type": "code",
   "execution_count": 37,
   "metadata": {},
   "outputs": [],
   "source": [
    "images = []\n",
    "\n",
    "for i in iteration:\n",
    "    filename = 'Scatter_Plots_Animation/Scatter_{}'.format(i)\n",
    "    images.append(imageio.imread(filename))\n",
    "\n",
    "imageio.mimsave('Scatter_Plots_Animation/Animated_Scatter.gif', images, fps=20)"
   ]
  },
  {
   "cell_type": "markdown",
   "metadata": {},
   "source": [
    "### Second Subset: Extra Task"
   ]
  },
  {
   "cell_type": "code",
   "execution_count": 20,
   "metadata": {},
   "outputs": [
    {
     "data": {
      "text/html": [
       "<div>\n",
       "<style scoped>\n",
       "    .dataframe tbody tr th:only-of-type {\n",
       "        vertical-align: middle;\n",
       "    }\n",
       "\n",
       "    .dataframe tbody tr th {\n",
       "        vertical-align: top;\n",
       "    }\n",
       "\n",
       "    .dataframe thead th {\n",
       "        text-align: right;\n",
       "    }\n",
       "</style>\n",
       "<table border=\"1\" class=\"dataframe\">\n",
       "  <thead>\n",
       "    <tr style=\"text-align: right;\">\n",
       "      <th></th>\n",
       "      <th>country</th>\n",
       "      <th>year</th>\n",
       "      <th>fertility_rate</th>\n",
       "      <th>population</th>\n",
       "      <th>life_expectancy</th>\n",
       "    </tr>\n",
       "  </thead>\n",
       "  <tbody>\n",
       "    <tr>\n",
       "      <th>29</th>\n",
       "      <td>Brazil</td>\n",
       "      <td>1800</td>\n",
       "      <td>6.26</td>\n",
       "      <td>3.639636e+06</td>\n",
       "      <td>32.00</td>\n",
       "    </tr>\n",
       "    <tr>\n",
       "      <th>44</th>\n",
       "      <td>China</td>\n",
       "      <td>1800</td>\n",
       "      <td>5.50</td>\n",
       "      <td>3.216750e+08</td>\n",
       "      <td>32.00</td>\n",
       "    </tr>\n",
       "    <tr>\n",
       "      <th>82</th>\n",
       "      <td>Germany</td>\n",
       "      <td>1800</td>\n",
       "      <td>5.40</td>\n",
       "      <td>2.288692e+07</td>\n",
       "      <td>38.37</td>\n",
       "    </tr>\n",
       "    <tr>\n",
       "      <th>101</th>\n",
       "      <td>India</td>\n",
       "      <td>1800</td>\n",
       "      <td>5.95</td>\n",
       "      <td>1.685749e+08</td>\n",
       "      <td>25.44</td>\n",
       "    </tr>\n",
       "    <tr>\n",
       "      <th>184</th>\n",
       "      <td>Russia</td>\n",
       "      <td>1800</td>\n",
       "      <td>7.00</td>\n",
       "      <td>3.108840e+07</td>\n",
       "      <td>29.57</td>\n",
       "    </tr>\n",
       "    <tr>\n",
       "      <th>...</th>\n",
       "      <td>...</td>\n",
       "      <td>...</td>\n",
       "      <td>...</td>\n",
       "      <td>...</td>\n",
       "      <td>...</td>\n",
       "    </tr>\n",
       "    <tr>\n",
       "      <th>20749</th>\n",
       "      <td>Brazil</td>\n",
       "      <td>2015</td>\n",
       "      <td>1.78</td>\n",
       "      <td>2.078475e+08</td>\n",
       "      <td>74.40</td>\n",
       "    </tr>\n",
       "    <tr>\n",
       "      <th>20764</th>\n",
       "      <td>China</td>\n",
       "      <td>2015</td>\n",
       "      <td>1.57</td>\n",
       "      <td>1.376049e+09</td>\n",
       "      <td>76.20</td>\n",
       "    </tr>\n",
       "    <tr>\n",
       "      <th>20802</th>\n",
       "      <td>Germany</td>\n",
       "      <td>2015</td>\n",
       "      <td>1.44</td>\n",
       "      <td>8.068854e+07</td>\n",
       "      <td>80.80</td>\n",
       "    </tr>\n",
       "    <tr>\n",
       "      <th>20821</th>\n",
       "      <td>India</td>\n",
       "      <td>2015</td>\n",
       "      <td>2.43</td>\n",
       "      <td>1.311051e+09</td>\n",
       "      <td>67.20</td>\n",
       "    </tr>\n",
       "    <tr>\n",
       "      <th>20904</th>\n",
       "      <td>Russia</td>\n",
       "      <td>2015</td>\n",
       "      <td>1.61</td>\n",
       "      <td>1.434569e+08</td>\n",
       "      <td>71.00</td>\n",
       "    </tr>\n",
       "  </tbody>\n",
       "</table>\n",
       "<p>405 rows × 5 columns</p>\n",
       "</div>"
      ],
      "text/plain": [
       "       country  year  fertility_rate    population  life_expectancy\n",
       "29      Brazil  1800            6.26  3.639636e+06            32.00\n",
       "44       China  1800            5.50  3.216750e+08            32.00\n",
       "82     Germany  1800            5.40  2.288692e+07            38.37\n",
       "101      India  1800            5.95  1.685749e+08            25.44\n",
       "184     Russia  1800            7.00  3.108840e+07            29.57\n",
       "...        ...   ...             ...           ...              ...\n",
       "20749   Brazil  2015            1.78  2.078475e+08            74.40\n",
       "20764    China  2015            1.57  1.376049e+09            76.20\n",
       "20802  Germany  2015            1.44  8.068854e+07            80.80\n",
       "20821    India  2015            2.43  1.311051e+09            67.20\n",
       "20904   Russia  2015            1.61  1.434569e+08            71.00\n",
       "\n",
       "[405 rows x 5 columns]"
      ]
     },
     "execution_count": 20,
     "metadata": {},
     "output_type": "execute_result"
    }
   ],
   "source": [
    "df_subset2 = df_1.loc[df['country'].isin(['Russia', 'China', 'Germany', 'India', 'Brazil'])]\n",
    "df_subset2"
   ]
  },
  {
   "cell_type": "markdown",
   "metadata": {},
   "source": [
    "### How did the fertility rate evolve with the time in a subset of highly populated countries?"
   ]
  },
  {
   "cell_type": "code",
   "execution_count": 21,
   "metadata": {},
   "outputs": [
    {
     "data": {
      "text/plain": [
       "(1940.0, 2000.0, 0.0, 8.0)"
      ]
     },
     "execution_count": 21,
     "metadata": {},
     "output_type": "execute_result"
    },
    {
     "data": {
      "image/png": "[encoded data removed]",
      "text/plain": [
       "<Figure size 432x288 with 1 Axes>"
      ]
     },
     "metadata": {},
     "output_type": "display_data"
    }
   ],
   "source": [
    "sns.lineplot(x='year', y='fertility_rate', hue='country',\n",
    "            data=df_subset2)\n",
    "plt.axis((1940, 2000, 0.0, 8.0))"
   ]
  },
  {
   "cell_type": "markdown",
   "metadata": {},
   "source": [
    "### Create Scatterplots for the years bewtween 1800 and 2015"
   ]
  },
  {
   "cell_type": "code",
   "execution_count": 22,
   "metadata": {},
   "outputs": [],
   "source": [
    "iteration= range(1800,2016)\n",
    "for i in iteration:\n",
    "    if i in df_subset2['year'].unique():\n",
    "        df_year = df_subset2['year'] == i\n",
    "        df_filtered = df_subset2[df_year]\n",
    "        # set axis for all plots\n",
    "        plt.axis((1790, 2015, 0.0, 8.0))\n",
    "        plt.title(\"Life Expectancy over Fertility Rate (1800-2015)\", fontsize=13)\n",
    "        plt.xlabel('Year')\n",
    "        plt.ylabel('Fertility Rate')\n",
    "        sns.set_style(\"whitegrid\")\n",
    "        sns.scatterplot(x='year', y='fertility_rate',hue='country',data=df_filtered, size = 'population')\n",
    "        #safe images in a seperate folder\n",
    "        nametag = 'Scatter_Plots_Animation2/Scatter_{}'.format(i)\n",
    "        plt.savefig(fname = nametag, format = 'png')\n",
    "        plt.close()\n",
    "    else:\n",
    "        continue\n",
    "\n",
    "    "
   ]
  },
  {
   "cell_type": "markdown",
   "metadata": {},
   "source": [
    "### Create an animation of the development of the fertility rate"
   ]
  },
  {
   "cell_type": "code",
   "execution_count": 23,
   "metadata": {},
   "outputs": [],
   "source": [
    "images2 = []\n",
    "\n",
    "for i in iteration:\n",
    "    if i in df_subset2['year'].unique():\n",
    "        filename = 'Scatter_Plots_Animation2/Scatter_{}'.format(i)\n",
    "        images2.append(imageio.imread(filename))\n",
    "    else:\n",
    "        continue\n",
    "\n",
    "imageio.mimsave('Scatter_Plots_Animation2/Animated_Scatter.gif', images2, fps=10)"
   ]
  },
  {
   "cell_type": "code",
   "execution_count": null,
   "metadata": {},
   "outputs": [],
   "source": []
  }
 ],
 "metadata": {
  "kernelspec": {
   "display_name": "Python 3",
   "language": "python",
   "name": "python3"
  },
  "language_info": {
   "codemirror_mode": {
    "name": "ipython",
    "version": 3
   },
   "file_extension": ".py",
   "mimetype": "text/x-python",
   "name": "python",
   "nbconvert_exporter": "python",
   "pygments_lexer": "ipython3",
   "version": "3.8.5"
  }
 },
 "nbformat": 4,
 "nbformat_minor": 4
}
