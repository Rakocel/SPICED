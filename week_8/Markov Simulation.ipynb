{
 "cells": [
  {
   "cell_type": "markdown",
   "metadata": {},
   "source": [
    "# **Project: Markov Simulation**\n",
    "+ simulates the customer behaviour at a supermarket."
   ]
  },
  {
   "cell_type": "markdown",
   "metadata": {},
   "source": [
    "---\n",
    "---"
   ]
  },
  {
   "cell_type": "markdown",
   "metadata": {},
   "source": [
    "## **0. Imports**"
   ]
  },
  {
   "cell_type": "code",
   "execution_count": 256,
   "metadata": {},
   "outputs": [],
   "source": [
    "import pandas as pd\n",
    "import numpy as np\n",
    "import matplotlib.pyplot as plt\n",
    "import random\n",
    "import time\n",
    "from datetime import datetime, timedelta\n",
    "import datetime as dt\n",
    "import seaborn as sns\n",
    "plt.rcParams['figure.figsize'] = (20,6)"
   ]
  },
  {
   "cell_type": "markdown",
   "metadata": {},
   "source": [
    "---"
   ]
  },
  {
   "cell_type": "markdown",
   "metadata": {},
   "source": [
    "## **1. Load and prepare the data**"
   ]
  },
  {
   "cell_type": "code",
   "execution_count": 2,
   "metadata": {},
   "outputs": [],
   "source": [
    "df1 = pd.read_csv('Data/monday.csv' ,sep=';')\n",
    "df2 = pd.read_csv('Data/tuesday.csv' ,sep=';')\n",
    "df3 = pd.read_csv('Data/wednesday.csv' ,sep=';')\n",
    "df4 = pd.read_csv('Data/thursday.csv' ,sep=';')\n",
    "df5 = pd.read_csv('Data/friday.csv' ,sep=';')"
   ]
  },
  {
   "cell_type": "code",
   "execution_count": 3,
   "metadata": {},
   "outputs": [],
   "source": [
    "df1['customer_complete']=df1['customer_no']\n",
    "df2['customer_complete']=df2['customer_no']+ df1['customer_complete'].max()\n",
    "df3['customer_complete']=df3['customer_no']+ df2['customer_complete'].max()\n",
    "df4['customer_complete']=df4['customer_no']+ df3['customer_complete'].max()\n",
    "df5['customer_complete']=df5['customer_no']+ df4['customer_complete'].max()\n",
    "\n",
    "\n",
    "df1.drop(['customer_no'], axis=1,inplace=True)\n",
    "df2.drop(['customer_no'], axis=1,inplace=True)\n",
    "df3.drop(['customer_no'], axis=1,inplace=True)\n",
    "df4.drop(['customer_no'], axis=1,inplace=True)\n",
    "df5.drop(['customer_no'], axis=1,inplace=True)\n"
   ]
  },
  {
   "cell_type": "code",
   "execution_count": 4,
   "metadata": {},
   "outputs": [],
   "source": [
    "df_full= pd.concat([df1, df2, df3, df4, df5])"
   ]
  },
  {
   "cell_type": "code",
   "execution_count": 5,
   "metadata": {},
   "outputs": [
    {
     "data": {
      "text/html": [
       "<div>\n",
       "<style scoped>\n",
       "    .dataframe tbody tr th:only-of-type {\n",
       "        vertical-align: middle;\n",
       "    }\n",
       "\n",
       "    .dataframe tbody tr th {\n",
       "        vertical-align: top;\n",
       "    }\n",
       "\n",
       "    .dataframe thead th {\n",
       "        text-align: right;\n",
       "    }\n",
       "</style>\n",
       "<table border=\"1\" class=\"dataframe\">\n",
       "  <thead>\n",
       "    <tr style=\"text-align: right;\">\n",
       "      <th></th>\n",
       "      <th>timestamp</th>\n",
       "      <th>location</th>\n",
       "      <th>customer_complete</th>\n",
       "    </tr>\n",
       "  </thead>\n",
       "  <tbody>\n",
       "    <tr>\n",
       "      <th>0</th>\n",
       "      <td>2019-09-02 07:03:00</td>\n",
       "      <td>dairy</td>\n",
       "      <td>1</td>\n",
       "    </tr>\n",
       "    <tr>\n",
       "      <th>1</th>\n",
       "      <td>2019-09-02 07:03:00</td>\n",
       "      <td>dairy</td>\n",
       "      <td>2</td>\n",
       "    </tr>\n",
       "    <tr>\n",
       "      <th>2</th>\n",
       "      <td>2019-09-02 07:04:00</td>\n",
       "      <td>dairy</td>\n",
       "      <td>3</td>\n",
       "    </tr>\n",
       "    <tr>\n",
       "      <th>3</th>\n",
       "      <td>2019-09-02 07:04:00</td>\n",
       "      <td>dairy</td>\n",
       "      <td>4</td>\n",
       "    </tr>\n",
       "    <tr>\n",
       "      <th>4</th>\n",
       "      <td>2019-09-02 07:04:00</td>\n",
       "      <td>spices</td>\n",
       "      <td>5</td>\n",
       "    </tr>\n",
       "    <tr>\n",
       "      <th>...</th>\n",
       "      <td>...</td>\n",
       "      <td>...</td>\n",
       "      <td>...</td>\n",
       "    </tr>\n",
       "    <tr>\n",
       "      <th>5120</th>\n",
       "      <td>2019-09-06 21:50:00</td>\n",
       "      <td>dairy</td>\n",
       "      <td>7435</td>\n",
       "    </tr>\n",
       "    <tr>\n",
       "      <th>5121</th>\n",
       "      <td>2019-09-06 21:50:00</td>\n",
       "      <td>checkout</td>\n",
       "      <td>7442</td>\n",
       "    </tr>\n",
       "    <tr>\n",
       "      <th>5122</th>\n",
       "      <td>2019-09-06 21:50:00</td>\n",
       "      <td>checkout</td>\n",
       "      <td>7443</td>\n",
       "    </tr>\n",
       "    <tr>\n",
       "      <th>5123</th>\n",
       "      <td>2019-09-06 21:50:00</td>\n",
       "      <td>drinks</td>\n",
       "      <td>7444</td>\n",
       "    </tr>\n",
       "    <tr>\n",
       "      <th>5124</th>\n",
       "      <td>2019-09-06 21:50:00</td>\n",
       "      <td>spices</td>\n",
       "      <td>7445</td>\n",
       "    </tr>\n",
       "  </tbody>\n",
       "</table>\n",
       "<p>24877 rows × 3 columns</p>\n",
       "</div>"
      ],
      "text/plain": [
       "                timestamp  location  customer_complete\n",
       "0     2019-09-02 07:03:00     dairy                  1\n",
       "1     2019-09-02 07:03:00     dairy                  2\n",
       "2     2019-09-02 07:04:00     dairy                  3\n",
       "3     2019-09-02 07:04:00     dairy                  4\n",
       "4     2019-09-02 07:04:00    spices                  5\n",
       "...                   ...       ...                ...\n",
       "5120  2019-09-06 21:50:00     dairy               7435\n",
       "5121  2019-09-06 21:50:00  checkout               7442\n",
       "5122  2019-09-06 21:50:00  checkout               7443\n",
       "5123  2019-09-06 21:50:00    drinks               7444\n",
       "5124  2019-09-06 21:50:00    spices               7445\n",
       "\n",
       "[24877 rows x 3 columns]"
      ]
     },
     "execution_count": 5,
     "metadata": {},
     "output_type": "execute_result"
    }
   ],
   "source": [
    "df_full"
   ]
  },
  {
   "cell_type": "markdown",
   "metadata": {},
   "source": [
    "---"
   ]
  },
  {
   "cell_type": "markdown",
   "metadata": {},
   "source": [
    "## **2. Analyzing data and Feature Engineering**"
   ]
  },
  {
   "cell_type": "code",
   "execution_count": 6,
   "metadata": {},
   "outputs": [
    {
     "data": {
      "text/plain": [
       "timestamp            object\n",
       "location             object\n",
       "customer_complete     int64\n",
       "dtype: object"
      ]
     },
     "execution_count": 6,
     "metadata": {},
     "output_type": "execute_result"
    }
   ],
   "source": [
    "df_full.dtypes"
   ]
  },
  {
   "cell_type": "code",
   "execution_count": 7,
   "metadata": {},
   "outputs": [],
   "source": [
    "df_full['timestamp'] =  pd.to_datetime(df_full['timestamp'])"
   ]
  },
  {
   "cell_type": "code",
   "execution_count": 8,
   "metadata": {},
   "outputs": [],
   "source": [
    "df_full['weekday']= df_full['timestamp'].dt.day"
   ]
  },
  {
   "cell_type": "code",
   "execution_count": 9,
   "metadata": {},
   "outputs": [],
   "source": [
    "df_full['weekday_names']= df_full['timestamp'].dt.day_name()"
   ]
  },
  {
   "cell_type": "code",
   "execution_count": 10,
   "metadata": {},
   "outputs": [],
   "source": [
    "df_full['hour']= df_full['timestamp'].dt.hour"
   ]
  },
  {
   "cell_type": "code",
   "execution_count": 11,
   "metadata": {},
   "outputs": [],
   "source": [
    "df_full = df_full.reset_index()\n",
    "df_full.drop(columns = ['index'], axis =0, inplace =True)"
   ]
  },
  {
   "cell_type": "code",
   "execution_count": 12,
   "metadata": {},
   "outputs": [
    {
     "data": {
      "text/html": [
       "<div>\n",
       "<style scoped>\n",
       "    .dataframe tbody tr th:only-of-type {\n",
       "        vertical-align: middle;\n",
       "    }\n",
       "\n",
       "    .dataframe tbody tr th {\n",
       "        vertical-align: top;\n",
       "    }\n",
       "\n",
       "    .dataframe thead th {\n",
       "        text-align: right;\n",
       "    }\n",
       "</style>\n",
       "<table border=\"1\" class=\"dataframe\">\n",
       "  <thead>\n",
       "    <tr style=\"text-align: right;\">\n",
       "      <th></th>\n",
       "      <th>timestamp</th>\n",
       "      <th>location</th>\n",
       "      <th>customer_complete</th>\n",
       "      <th>weekday</th>\n",
       "      <th>weekday_names</th>\n",
       "      <th>hour</th>\n",
       "    </tr>\n",
       "  </thead>\n",
       "  <tbody>\n",
       "    <tr>\n",
       "      <th>0</th>\n",
       "      <td>2019-09-02 07:03:00</td>\n",
       "      <td>dairy</td>\n",
       "      <td>1</td>\n",
       "      <td>2</td>\n",
       "      <td>Monday</td>\n",
       "      <td>7</td>\n",
       "    </tr>\n",
       "    <tr>\n",
       "      <th>1</th>\n",
       "      <td>2019-09-02 07:03:00</td>\n",
       "      <td>dairy</td>\n",
       "      <td>2</td>\n",
       "      <td>2</td>\n",
       "      <td>Monday</td>\n",
       "      <td>7</td>\n",
       "    </tr>\n",
       "    <tr>\n",
       "      <th>2</th>\n",
       "      <td>2019-09-02 07:04:00</td>\n",
       "      <td>dairy</td>\n",
       "      <td>3</td>\n",
       "      <td>2</td>\n",
       "      <td>Monday</td>\n",
       "      <td>7</td>\n",
       "    </tr>\n",
       "    <tr>\n",
       "      <th>3</th>\n",
       "      <td>2019-09-02 07:04:00</td>\n",
       "      <td>dairy</td>\n",
       "      <td>4</td>\n",
       "      <td>2</td>\n",
       "      <td>Monday</td>\n",
       "      <td>7</td>\n",
       "    </tr>\n",
       "    <tr>\n",
       "      <th>4</th>\n",
       "      <td>2019-09-02 07:04:00</td>\n",
       "      <td>spices</td>\n",
       "      <td>5</td>\n",
       "      <td>2</td>\n",
       "      <td>Monday</td>\n",
       "      <td>7</td>\n",
       "    </tr>\n",
       "    <tr>\n",
       "      <th>...</th>\n",
       "      <td>...</td>\n",
       "      <td>...</td>\n",
       "      <td>...</td>\n",
       "      <td>...</td>\n",
       "      <td>...</td>\n",
       "      <td>...</td>\n",
       "    </tr>\n",
       "    <tr>\n",
       "      <th>24872</th>\n",
       "      <td>2019-09-06 21:50:00</td>\n",
       "      <td>dairy</td>\n",
       "      <td>7435</td>\n",
       "      <td>6</td>\n",
       "      <td>Friday</td>\n",
       "      <td>21</td>\n",
       "    </tr>\n",
       "    <tr>\n",
       "      <th>24873</th>\n",
       "      <td>2019-09-06 21:50:00</td>\n",
       "      <td>checkout</td>\n",
       "      <td>7442</td>\n",
       "      <td>6</td>\n",
       "      <td>Friday</td>\n",
       "      <td>21</td>\n",
       "    </tr>\n",
       "    <tr>\n",
       "      <th>24874</th>\n",
       "      <td>2019-09-06 21:50:00</td>\n",
       "      <td>checkout</td>\n",
       "      <td>7443</td>\n",
       "      <td>6</td>\n",
       "      <td>Friday</td>\n",
       "      <td>21</td>\n",
       "    </tr>\n",
       "    <tr>\n",
       "      <th>24875</th>\n",
       "      <td>2019-09-06 21:50:00</td>\n",
       "      <td>drinks</td>\n",
       "      <td>7444</td>\n",
       "      <td>6</td>\n",
       "      <td>Friday</td>\n",
       "      <td>21</td>\n",
       "    </tr>\n",
       "    <tr>\n",
       "      <th>24876</th>\n",
       "      <td>2019-09-06 21:50:00</td>\n",
       "      <td>spices</td>\n",
       "      <td>7445</td>\n",
       "      <td>6</td>\n",
       "      <td>Friday</td>\n",
       "      <td>21</td>\n",
       "    </tr>\n",
       "  </tbody>\n",
       "</table>\n",
       "<p>24877 rows × 6 columns</p>\n",
       "</div>"
      ],
      "text/plain": [
       "                timestamp  location  customer_complete  weekday weekday_names  \\\n",
       "0     2019-09-02 07:03:00     dairy                  1        2        Monday   \n",
       "1     2019-09-02 07:03:00     dairy                  2        2        Monday   \n",
       "2     2019-09-02 07:04:00     dairy                  3        2        Monday   \n",
       "3     2019-09-02 07:04:00     dairy                  4        2        Monday   \n",
       "4     2019-09-02 07:04:00    spices                  5        2        Monday   \n",
       "...                   ...       ...                ...      ...           ...   \n",
       "24872 2019-09-06 21:50:00     dairy               7435        6        Friday   \n",
       "24873 2019-09-06 21:50:00  checkout               7442        6        Friday   \n",
       "24874 2019-09-06 21:50:00  checkout               7443        6        Friday   \n",
       "24875 2019-09-06 21:50:00    drinks               7444        6        Friday   \n",
       "24876 2019-09-06 21:50:00    spices               7445        6        Friday   \n",
       "\n",
       "       hour  \n",
       "0         7  \n",
       "1         7  \n",
       "2         7  \n",
       "3         7  \n",
       "4         7  \n",
       "...     ...  \n",
       "24872    21  \n",
       "24873    21  \n",
       "24874    21  \n",
       "24875    21  \n",
       "24876    21  \n",
       "\n",
       "[24877 rows x 6 columns]"
      ]
     },
     "execution_count": 12,
     "metadata": {},
     "output_type": "execute_result"
    }
   ],
   "source": [
    "df_full"
   ]
  },
  {
   "cell_type": "markdown",
   "metadata": {},
   "source": [
    "---"
   ]
  },
  {
   "cell_type": "markdown",
   "metadata": {},
   "source": [
    "## **3. Visualization**"
   ]
  },
  {
   "cell_type": "markdown",
   "metadata": {},
   "source": [
    "### Calculate the total number of customers in each section"
   ]
  },
  {
   "cell_type": "code",
   "execution_count": 13,
   "metadata": {},
   "outputs": [
    {
     "data": {
      "text/plain": [
       "<AxesSubplot:xlabel='location'>"
      ]
     },
     "execution_count": 13,
     "metadata": {},
     "output_type": "execute_result"
    },
    {
     "data": {
      "image/png": "[encoded data removed]",
      "text/plain": [
       "<Figure size 1440x432 with 1 Axes>"
      ]
     },
     "metadata": {
      "needs_background": "light"
     },
     "output_type": "display_data"
    }
   ],
   "source": [
    "df_full.groupby(['location'])['customer_complete'].count().plot.bar()"
   ]
  },
  {
   "cell_type": "markdown",
   "metadata": {},
   "source": [
    "### Calculate the total number of customers in each section over time"
   ]
  },
  {
   "cell_type": "code",
   "execution_count": 14,
   "metadata": {},
   "outputs": [
    {
     "data": {
      "text/plain": [
       "<AxesSubplot:xlabel='location'>"
      ]
     },
     "execution_count": 14,
     "metadata": {},
     "output_type": "execute_result"
    },
    {
     "data": {
      "image/png": "[encoded data removed]",
      "text/plain": [
       "<Figure size 1440x432 with 1 Axes>"
      ]
     },
     "metadata": {
      "needs_background": "light"
     },
     "output_type": "display_data"
    }
   ],
   "source": [
    "df_full.groupby(['location', 'weekday'])['customer_complete'].count().unstack().plot.bar()"
   ]
  },
  {
   "cell_type": "markdown",
   "metadata": {},
   "source": [
    "### Display the number of customers at checkout over time"
   ]
  },
  {
   "cell_type": "code",
   "execution_count": 15,
   "metadata": {},
   "outputs": [
    {
     "data": {
      "text/plain": [
       "<AxesSubplot:xlabel='weekday'>"
      ]
     },
     "execution_count": 15,
     "metadata": {},
     "output_type": "execute_result"
    },
    {
     "data": {
      "image/png": "[encoded data removed]",
      "text/plain": [
       "<Figure size 1440x432 with 1 Axes>"
      ]
     },
     "metadata": {
      "needs_background": "light"
     },
     "output_type": "display_data"
    }
   ],
   "source": [
    "df_full[df_full['location']=='checkout'].groupby(['weekday','hour'])['customer_complete'].count().unstack().plot(kind='bar')"
   ]
  },
  {
   "cell_type": "markdown",
   "metadata": {},
   "source": [
    "### Calculate the time each customer spent in the market"
   ]
  },
  {
   "cell_type": "code",
   "execution_count": 16,
   "metadata": {},
   "outputs": [],
   "source": [
    "time_in_market = {}\n",
    "for i in df_full['customer_complete']:\n",
    "    markettime = df_full.loc[df_full['customer_complete'] == i]['timestamp'].max() - df_full.loc[df_full['customer_complete'] == i]['timestamp'].min()\n",
    "    time_in_market[i]= markettime"
   ]
  },
  {
   "cell_type": "code",
   "execution_count": 17,
   "metadata": {},
   "outputs": [],
   "source": [
    "time_dataframe = pd.DataFrame.from_dict(time_in_market, orient='index', columns= ['time in market'])"
   ]
  },
  {
   "cell_type": "code",
   "execution_count": 18,
   "metadata": {},
   "outputs": [],
   "source": [
    "minutes = (time_dataframe['time in market'].dt.seconds)/60\n",
    "time_dataframe['minutes in market'] = minutes"
   ]
  },
  {
   "cell_type": "code",
   "execution_count": 19,
   "metadata": {},
   "outputs": [
    {
     "data": {
      "text/html": [
       "<div>\n",
       "<style scoped>\n",
       "    .dataframe tbody tr th:only-of-type {\n",
       "        vertical-align: middle;\n",
       "    }\n",
       "\n",
       "    .dataframe tbody tr th {\n",
       "        vertical-align: top;\n",
       "    }\n",
       "\n",
       "    .dataframe thead th {\n",
       "        text-align: right;\n",
       "    }\n",
       "</style>\n",
       "<table border=\"1\" class=\"dataframe\">\n",
       "  <thead>\n",
       "    <tr style=\"text-align: right;\">\n",
       "      <th></th>\n",
       "      <th>minutes in market</th>\n",
       "    </tr>\n",
       "  </thead>\n",
       "  <tbody>\n",
       "    <tr>\n",
       "      <th>1</th>\n",
       "      <td>2.0</td>\n",
       "    </tr>\n",
       "    <tr>\n",
       "      <th>2</th>\n",
       "      <td>3.0</td>\n",
       "    </tr>\n",
       "    <tr>\n",
       "      <th>3</th>\n",
       "      <td>2.0</td>\n",
       "    </tr>\n",
       "    <tr>\n",
       "      <th>4</th>\n",
       "      <td>4.0</td>\n",
       "    </tr>\n",
       "    <tr>\n",
       "      <th>5</th>\n",
       "      <td>1.0</td>\n",
       "    </tr>\n",
       "    <tr>\n",
       "      <th>...</th>\n",
       "      <td>...</td>\n",
       "    </tr>\n",
       "    <tr>\n",
       "      <th>7441</th>\n",
       "      <td>0.0</td>\n",
       "    </tr>\n",
       "    <tr>\n",
       "      <th>7442</th>\n",
       "      <td>2.0</td>\n",
       "    </tr>\n",
       "    <tr>\n",
       "      <th>7443</th>\n",
       "      <td>2.0</td>\n",
       "    </tr>\n",
       "    <tr>\n",
       "      <th>7444</th>\n",
       "      <td>0.0</td>\n",
       "    </tr>\n",
       "    <tr>\n",
       "      <th>7445</th>\n",
       "      <td>0.0</td>\n",
       "    </tr>\n",
       "  </tbody>\n",
       "</table>\n",
       "<p>7445 rows × 1 columns</p>\n",
       "</div>"
      ],
      "text/plain": [
       "      minutes in market\n",
       "1                   2.0\n",
       "2                   3.0\n",
       "3                   2.0\n",
       "4                   4.0\n",
       "5                   1.0\n",
       "...                 ...\n",
       "7441                0.0\n",
       "7442                2.0\n",
       "7443                2.0\n",
       "7444                0.0\n",
       "7445                0.0\n",
       "\n",
       "[7445 rows x 1 columns]"
      ]
     },
     "execution_count": 19,
     "metadata": {},
     "output_type": "execute_result"
    }
   ],
   "source": [
    "time_dataframe[['minutes in market']]"
   ]
  },
  {
   "cell_type": "markdown",
   "metadata": {},
   "source": [
    "### Calculate the total number of customers in the supermarket over time."
   ]
  },
  {
   "cell_type": "code",
   "execution_count": 20,
   "metadata": {},
   "outputs": [],
   "source": [
    "customer_counter = []\n",
    "counter=0\n",
    "for j in range(len(df_full)):\n",
    "    if df_full['timestamp'][j] == df_full.loc[df_full['customer_complete'] == df_full['customer_complete'][j]]['timestamp'].min():\n",
    "        counter = counter +1\n",
    "        customer_counter.append(counter)\n",
    "    elif df_full['timestamp'][j] == df_full.loc[df_full['customer_complete'] == df_full['customer_complete'][j]]['timestamp'].max():\n",
    "        counter = counter -1\n",
    "        customer_counter.append(counter)\n",
    "    else:\n",
    "        customer_counter.append(counter)"
   ]
  },
  {
   "cell_type": "code",
   "execution_count": 21,
   "metadata": {},
   "outputs": [],
   "source": [
    "df_full['costumer counter'] = customer_counter"
   ]
  },
  {
   "cell_type": "code",
   "execution_count": 22,
   "metadata": {},
   "outputs": [
    {
     "data": {
      "text/html": [
       "<div>\n",
       "<style scoped>\n",
       "    .dataframe tbody tr th:only-of-type {\n",
       "        vertical-align: middle;\n",
       "    }\n",
       "\n",
       "    .dataframe tbody tr th {\n",
       "        vertical-align: top;\n",
       "    }\n",
       "\n",
       "    .dataframe thead th {\n",
       "        text-align: right;\n",
       "    }\n",
       "</style>\n",
       "<table border=\"1\" class=\"dataframe\">\n",
       "  <thead>\n",
       "    <tr style=\"text-align: right;\">\n",
       "      <th></th>\n",
       "      <th>timestamp</th>\n",
       "      <th>location</th>\n",
       "      <th>customer_complete</th>\n",
       "      <th>weekday</th>\n",
       "      <th>weekday_names</th>\n",
       "      <th>hour</th>\n",
       "      <th>costumer counter</th>\n",
       "    </tr>\n",
       "  </thead>\n",
       "  <tbody>\n",
       "    <tr>\n",
       "      <th>0</th>\n",
       "      <td>2019-09-02 07:03:00</td>\n",
       "      <td>dairy</td>\n",
       "      <td>1</td>\n",
       "      <td>2</td>\n",
       "      <td>Monday</td>\n",
       "      <td>7</td>\n",
       "      <td>1</td>\n",
       "    </tr>\n",
       "    <tr>\n",
       "      <th>1</th>\n",
       "      <td>2019-09-02 07:03:00</td>\n",
       "      <td>dairy</td>\n",
       "      <td>2</td>\n",
       "      <td>2</td>\n",
       "      <td>Monday</td>\n",
       "      <td>7</td>\n",
       "      <td>2</td>\n",
       "    </tr>\n",
       "    <tr>\n",
       "      <th>2</th>\n",
       "      <td>2019-09-02 07:04:00</td>\n",
       "      <td>dairy</td>\n",
       "      <td>3</td>\n",
       "      <td>2</td>\n",
       "      <td>Monday</td>\n",
       "      <td>7</td>\n",
       "      <td>3</td>\n",
       "    </tr>\n",
       "    <tr>\n",
       "      <th>3</th>\n",
       "      <td>2019-09-02 07:04:00</td>\n",
       "      <td>dairy</td>\n",
       "      <td>4</td>\n",
       "      <td>2</td>\n",
       "      <td>Monday</td>\n",
       "      <td>7</td>\n",
       "      <td>4</td>\n",
       "    </tr>\n",
       "    <tr>\n",
       "      <th>4</th>\n",
       "      <td>2019-09-02 07:04:00</td>\n",
       "      <td>spices</td>\n",
       "      <td>5</td>\n",
       "      <td>2</td>\n",
       "      <td>Monday</td>\n",
       "      <td>7</td>\n",
       "      <td>5</td>\n",
       "    </tr>\n",
       "    <tr>\n",
       "      <th>...</th>\n",
       "      <td>...</td>\n",
       "      <td>...</td>\n",
       "      <td>...</td>\n",
       "      <td>...</td>\n",
       "      <td>...</td>\n",
       "      <td>...</td>\n",
       "      <td>...</td>\n",
       "    </tr>\n",
       "    <tr>\n",
       "      <th>24872</th>\n",
       "      <td>2019-09-06 21:50:00</td>\n",
       "      <td>dairy</td>\n",
       "      <td>7435</td>\n",
       "      <td>6</td>\n",
       "      <td>Friday</td>\n",
       "      <td>21</td>\n",
       "      <td>9</td>\n",
       "    </tr>\n",
       "    <tr>\n",
       "      <th>24873</th>\n",
       "      <td>2019-09-06 21:50:00</td>\n",
       "      <td>checkout</td>\n",
       "      <td>7442</td>\n",
       "      <td>6</td>\n",
       "      <td>Friday</td>\n",
       "      <td>21</td>\n",
       "      <td>8</td>\n",
       "    </tr>\n",
       "    <tr>\n",
       "      <th>24874</th>\n",
       "      <td>2019-09-06 21:50:00</td>\n",
       "      <td>checkout</td>\n",
       "      <td>7443</td>\n",
       "      <td>6</td>\n",
       "      <td>Friday</td>\n",
       "      <td>21</td>\n",
       "      <td>7</td>\n",
       "    </tr>\n",
       "    <tr>\n",
       "      <th>24875</th>\n",
       "      <td>2019-09-06 21:50:00</td>\n",
       "      <td>drinks</td>\n",
       "      <td>7444</td>\n",
       "      <td>6</td>\n",
       "      <td>Friday</td>\n",
       "      <td>21</td>\n",
       "      <td>8</td>\n",
       "    </tr>\n",
       "    <tr>\n",
       "      <th>24876</th>\n",
       "      <td>2019-09-06 21:50:00</td>\n",
       "      <td>spices</td>\n",
       "      <td>7445</td>\n",
       "      <td>6</td>\n",
       "      <td>Friday</td>\n",
       "      <td>21</td>\n",
       "      <td>9</td>\n",
       "    </tr>\n",
       "  </tbody>\n",
       "</table>\n",
       "<p>24877 rows × 7 columns</p>\n",
       "</div>"
      ],
      "text/plain": [
       "                timestamp  location  customer_complete  weekday weekday_names  \\\n",
       "0     2019-09-02 07:03:00     dairy                  1        2        Monday   \n",
       "1     2019-09-02 07:03:00     dairy                  2        2        Monday   \n",
       "2     2019-09-02 07:04:00     dairy                  3        2        Monday   \n",
       "3     2019-09-02 07:04:00     dairy                  4        2        Monday   \n",
       "4     2019-09-02 07:04:00    spices                  5        2        Monday   \n",
       "...                   ...       ...                ...      ...           ...   \n",
       "24872 2019-09-06 21:50:00     dairy               7435        6        Friday   \n",
       "24873 2019-09-06 21:50:00  checkout               7442        6        Friday   \n",
       "24874 2019-09-06 21:50:00  checkout               7443        6        Friday   \n",
       "24875 2019-09-06 21:50:00    drinks               7444        6        Friday   \n",
       "24876 2019-09-06 21:50:00    spices               7445        6        Friday   \n",
       "\n",
       "       hour  costumer counter  \n",
       "0         7                 1  \n",
       "1         7                 2  \n",
       "2         7                 3  \n",
       "3         7                 4  \n",
       "4         7                 5  \n",
       "...     ...               ...  \n",
       "24872    21                 9  \n",
       "24873    21                 8  \n",
       "24874    21                 7  \n",
       "24875    21                 8  \n",
       "24876    21                 9  \n",
       "\n",
       "[24877 rows x 7 columns]"
      ]
     },
     "execution_count": 22,
     "metadata": {},
     "output_type": "execute_result"
    }
   ],
   "source": [
    "df_full"
   ]
  },
  {
   "cell_type": "markdown",
   "metadata": {},
   "source": [
    "---"
   ]
  },
  {
   "cell_type": "markdown",
   "metadata": {},
   "source": [
    "## **4. Generating Transition Matrix**"
   ]
  },
  {
   "cell_type": "code",
   "execution_count": 23,
   "metadata": {},
   "outputs": [],
   "source": [
    "df_full.sort_values(by= ['customer_complete','timestamp'], axis=0 , inplace=True)"
   ]
  },
  {
   "cell_type": "code",
   "execution_count": 24,
   "metadata": {
    "collapsed": true,
    "jupyter": {
     "outputs_hidden": true
    }
   },
   "outputs": [
    {
     "data": {
      "text/html": [
       "<div>\n",
       "<style scoped>\n",
       "    .dataframe tbody tr th:only-of-type {\n",
       "        vertical-align: middle;\n",
       "    }\n",
       "\n",
       "    .dataframe tbody tr th {\n",
       "        vertical-align: top;\n",
       "    }\n",
       "\n",
       "    .dataframe thead th {\n",
       "        text-align: right;\n",
       "    }\n",
       "</style>\n",
       "<table border=\"1\" class=\"dataframe\">\n",
       "  <thead>\n",
       "    <tr style=\"text-align: right;\">\n",
       "      <th></th>\n",
       "      <th>timestamp</th>\n",
       "      <th>location</th>\n",
       "      <th>customer_complete</th>\n",
       "      <th>weekday</th>\n",
       "      <th>weekday_names</th>\n",
       "      <th>hour</th>\n",
       "      <th>costumer counter</th>\n",
       "    </tr>\n",
       "  </thead>\n",
       "  <tbody>\n",
       "    <tr>\n",
       "      <th>0</th>\n",
       "      <td>2019-09-02 07:03:00</td>\n",
       "      <td>dairy</td>\n",
       "      <td>1</td>\n",
       "      <td>2</td>\n",
       "      <td>Monday</td>\n",
       "      <td>7</td>\n",
       "      <td>1</td>\n",
       "    </tr>\n",
       "    <tr>\n",
       "      <th>8</th>\n",
       "      <td>2019-09-02 07:05:00</td>\n",
       "      <td>checkout</td>\n",
       "      <td>1</td>\n",
       "      <td>2</td>\n",
       "      <td>Monday</td>\n",
       "      <td>7</td>\n",
       "      <td>7</td>\n",
       "    </tr>\n",
       "    <tr>\n",
       "      <th>1</th>\n",
       "      <td>2019-09-02 07:03:00</td>\n",
       "      <td>dairy</td>\n",
       "      <td>2</td>\n",
       "      <td>2</td>\n",
       "      <td>Monday</td>\n",
       "      <td>7</td>\n",
       "      <td>2</td>\n",
       "    </tr>\n",
       "    <tr>\n",
       "      <th>12</th>\n",
       "      <td>2019-09-02 07:06:00</td>\n",
       "      <td>checkout</td>\n",
       "      <td>2</td>\n",
       "      <td>2</td>\n",
       "      <td>Monday</td>\n",
       "      <td>7</td>\n",
       "      <td>5</td>\n",
       "    </tr>\n",
       "    <tr>\n",
       "      <th>2</th>\n",
       "      <td>2019-09-02 07:04:00</td>\n",
       "      <td>dairy</td>\n",
       "      <td>3</td>\n",
       "      <td>2</td>\n",
       "      <td>Monday</td>\n",
       "      <td>7</td>\n",
       "      <td>3</td>\n",
       "    </tr>\n",
       "    <tr>\n",
       "      <th>13</th>\n",
       "      <td>2019-09-02 07:06:00</td>\n",
       "      <td>checkout</td>\n",
       "      <td>3</td>\n",
       "      <td>2</td>\n",
       "      <td>Monday</td>\n",
       "      <td>7</td>\n",
       "      <td>4</td>\n",
       "    </tr>\n",
       "    <tr>\n",
       "      <th>3</th>\n",
       "      <td>2019-09-02 07:04:00</td>\n",
       "      <td>dairy</td>\n",
       "      <td>4</td>\n",
       "      <td>2</td>\n",
       "      <td>Monday</td>\n",
       "      <td>7</td>\n",
       "      <td>4</td>\n",
       "    </tr>\n",
       "    <tr>\n",
       "      <th>24</th>\n",
       "      <td>2019-09-02 07:08:00</td>\n",
       "      <td>checkout</td>\n",
       "      <td>4</td>\n",
       "      <td>2</td>\n",
       "      <td>Monday</td>\n",
       "      <td>7</td>\n",
       "      <td>10</td>\n",
       "    </tr>\n",
       "    <tr>\n",
       "      <th>4</th>\n",
       "      <td>2019-09-02 07:04:00</td>\n",
       "      <td>spices</td>\n",
       "      <td>5</td>\n",
       "      <td>2</td>\n",
       "      <td>Monday</td>\n",
       "      <td>7</td>\n",
       "      <td>5</td>\n",
       "    </tr>\n",
       "    <tr>\n",
       "      <th>9</th>\n",
       "      <td>2019-09-02 07:05:00</td>\n",
       "      <td>checkout</td>\n",
       "      <td>5</td>\n",
       "      <td>2</td>\n",
       "      <td>Monday</td>\n",
       "      <td>7</td>\n",
       "      <td>6</td>\n",
       "    </tr>\n",
       "    <tr>\n",
       "      <th>5</th>\n",
       "      <td>2019-09-02 07:04:00</td>\n",
       "      <td>spices</td>\n",
       "      <td>6</td>\n",
       "      <td>2</td>\n",
       "      <td>Monday</td>\n",
       "      <td>7</td>\n",
       "      <td>6</td>\n",
       "    </tr>\n",
       "    <tr>\n",
       "      <th>10</th>\n",
       "      <td>2019-09-02 07:05:00</td>\n",
       "      <td>dairy</td>\n",
       "      <td>6</td>\n",
       "      <td>2</td>\n",
       "      <td>Monday</td>\n",
       "      <td>7</td>\n",
       "      <td>6</td>\n",
       "    </tr>\n",
       "    <tr>\n",
       "      <th>62</th>\n",
       "      <td>2019-09-02 07:17:00</td>\n",
       "      <td>spices</td>\n",
       "      <td>6</td>\n",
       "      <td>2</td>\n",
       "      <td>Monday</td>\n",
       "      <td>7</td>\n",
       "      <td>11</td>\n",
       "    </tr>\n",
       "    <tr>\n",
       "      <th>71</th>\n",
       "      <td>2019-09-02 07:18:00</td>\n",
       "      <td>drinks</td>\n",
       "      <td>6</td>\n",
       "      <td>2</td>\n",
       "      <td>Monday</td>\n",
       "      <td>7</td>\n",
       "      <td>14</td>\n",
       "    </tr>\n",
       "    <tr>\n",
       "      <th>102</th>\n",
       "      <td>2019-09-02 07:25:00</td>\n",
       "      <td>spices</td>\n",
       "      <td>6</td>\n",
       "      <td>2</td>\n",
       "      <td>Monday</td>\n",
       "      <td>7</td>\n",
       "      <td>6</td>\n",
       "    </tr>\n",
       "    <tr>\n",
       "      <th>104</th>\n",
       "      <td>2019-09-02 07:26:00</td>\n",
       "      <td>dairy</td>\n",
       "      <td>6</td>\n",
       "      <td>2</td>\n",
       "      <td>Monday</td>\n",
       "      <td>7</td>\n",
       "      <td>6</td>\n",
       "    </tr>\n",
       "    <tr>\n",
       "      <th>117</th>\n",
       "      <td>2019-09-02 07:27:00</td>\n",
       "      <td>spices</td>\n",
       "      <td>6</td>\n",
       "      <td>2</td>\n",
       "      <td>Monday</td>\n",
       "      <td>7</td>\n",
       "      <td>13</td>\n",
       "    </tr>\n",
       "    <tr>\n",
       "      <th>135</th>\n",
       "      <td>2019-09-02 07:29:00</td>\n",
       "      <td>checkout</td>\n",
       "      <td>6</td>\n",
       "      <td>2</td>\n",
       "      <td>Monday</td>\n",
       "      <td>7</td>\n",
       "      <td>11</td>\n",
       "    </tr>\n",
       "    <tr>\n",
       "      <th>6</th>\n",
       "      <td>2019-09-02 07:04:00</td>\n",
       "      <td>spices</td>\n",
       "      <td>7</td>\n",
       "      <td>2</td>\n",
       "      <td>Monday</td>\n",
       "      <td>7</td>\n",
       "      <td>7</td>\n",
       "    </tr>\n",
       "    <tr>\n",
       "      <th>11</th>\n",
       "      <td>2019-09-02 07:05:00</td>\n",
       "      <td>drinks</td>\n",
       "      <td>7</td>\n",
       "      <td>2</td>\n",
       "      <td>Monday</td>\n",
       "      <td>7</td>\n",
       "      <td>6</td>\n",
       "    </tr>\n",
       "  </tbody>\n",
       "</table>\n",
       "</div>"
      ],
      "text/plain": [
       "              timestamp  location  customer_complete  weekday weekday_names  \\\n",
       "0   2019-09-02 07:03:00     dairy                  1        2        Monday   \n",
       "8   2019-09-02 07:05:00  checkout                  1        2        Monday   \n",
       "1   2019-09-02 07:03:00     dairy                  2        2        Monday   \n",
       "12  2019-09-02 07:06:00  checkout                  2        2        Monday   \n",
       "2   2019-09-02 07:04:00     dairy                  3        2        Monday   \n",
       "13  2019-09-02 07:06:00  checkout                  3        2        Monday   \n",
       "3   2019-09-02 07:04:00     dairy                  4        2        Monday   \n",
       "24  2019-09-02 07:08:00  checkout                  4        2        Monday   \n",
       "4   2019-09-02 07:04:00    spices                  5        2        Monday   \n",
       "9   2019-09-02 07:05:00  checkout                  5        2        Monday   \n",
       "5   2019-09-02 07:04:00    spices                  6        2        Monday   \n",
       "10  2019-09-02 07:05:00     dairy                  6        2        Monday   \n",
       "62  2019-09-02 07:17:00    spices                  6        2        Monday   \n",
       "71  2019-09-02 07:18:00    drinks                  6        2        Monday   \n",
       "102 2019-09-02 07:25:00    spices                  6        2        Monday   \n",
       "104 2019-09-02 07:26:00     dairy                  6        2        Monday   \n",
       "117 2019-09-02 07:27:00    spices                  6        2        Monday   \n",
       "135 2019-09-02 07:29:00  checkout                  6        2        Monday   \n",
       "6   2019-09-02 07:04:00    spices                  7        2        Monday   \n",
       "11  2019-09-02 07:05:00    drinks                  7        2        Monday   \n",
       "\n",
       "     hour  costumer counter  \n",
       "0       7                 1  \n",
       "8       7                 7  \n",
       "1       7                 2  \n",
       "12      7                 5  \n",
       "2       7                 3  \n",
       "13      7                 4  \n",
       "3       7                 4  \n",
       "24      7                10  \n",
       "4       7                 5  \n",
       "9       7                 6  \n",
       "5       7                 6  \n",
       "10      7                 6  \n",
       "62      7                11  \n",
       "71      7                14  \n",
       "102     7                 6  \n",
       "104     7                 6  \n",
       "117     7                13  \n",
       "135     7                11  \n",
       "6       7                 7  \n",
       "11      7                 6  "
      ]
     },
     "execution_count": 24,
     "metadata": {},
     "output_type": "execute_result"
    }
   ],
   "source": [
    "df_full.head(20)"
   ]
  },
  {
   "cell_type": "code",
   "execution_count": 25,
   "metadata": {},
   "outputs": [],
   "source": [
    "df_full['location2'] = df_full['location'].shift(-1)"
   ]
  },
  {
   "cell_type": "code",
   "execution_count": 26,
   "metadata": {},
   "outputs": [
    {
     "name": "stderr",
     "output_type": "stream",
     "text": [
      "<ipython-input-26-c0354a189581>:3: SettingWithCopyWarning: \n",
      "A value is trying to be set on a copy of a slice from a DataFrame\n",
      "\n",
      "See the caveats in the documentation: https://pandas.pydata.org/pandas-docs/stable/user_guide/indexing.html#returning-a-view-versus-a-copy\n",
      "  df_full['location2'][i] = 'checkout'\n"
     ]
    }
   ],
   "source": [
    "for i in range(len(df_full)):\n",
    "    if df_full['location'][i] == 'checkout':\n",
    "        df_full['location2'][i] = 'checkout'"
   ]
  },
  {
   "cell_type": "code",
   "execution_count": 27,
   "metadata": {},
   "outputs": [],
   "source": [
    "cross = pd.crosstab(df_full['location'], df_full['location2'], normalize=0)"
   ]
  },
  {
   "cell_type": "code",
   "execution_count": 28,
   "metadata": {},
   "outputs": [
    {
     "data": {
      "text/html": [
       "<div>\n",
       "<style scoped>\n",
       "    .dataframe tbody tr th:only-of-type {\n",
       "        vertical-align: middle;\n",
       "    }\n",
       "\n",
       "    .dataframe tbody tr th {\n",
       "        vertical-align: top;\n",
       "    }\n",
       "\n",
       "    .dataframe thead th {\n",
       "        text-align: right;\n",
       "    }\n",
       "</style>\n",
       "<table border=\"1\" class=\"dataframe\">\n",
       "  <thead>\n",
       "    <tr style=\"text-align: right;\">\n",
       "      <th>location2</th>\n",
       "      <th>checkout</th>\n",
       "      <th>dairy</th>\n",
       "      <th>drinks</th>\n",
       "      <th>fruit</th>\n",
       "      <th>spices</th>\n",
       "    </tr>\n",
       "    <tr>\n",
       "      <th>location</th>\n",
       "      <th></th>\n",
       "      <th></th>\n",
       "      <th></th>\n",
       "      <th></th>\n",
       "      <th></th>\n",
       "    </tr>\n",
       "  </thead>\n",
       "  <tbody>\n",
       "    <tr>\n",
       "      <th>checkout</th>\n",
       "      <td>1.000000</td>\n",
       "      <td>0.000000</td>\n",
       "      <td>0.000000</td>\n",
       "      <td>0.000000</td>\n",
       "      <td>0.000000</td>\n",
       "    </tr>\n",
       "    <tr>\n",
       "      <th>dairy</th>\n",
       "      <td>0.390041</td>\n",
       "      <td>0.001282</td>\n",
       "      <td>0.222697</td>\n",
       "      <td>0.190425</td>\n",
       "      <td>0.195555</td>\n",
       "    </tr>\n",
       "    <tr>\n",
       "      <th>drinks</th>\n",
       "      <td>0.536748</td>\n",
       "      <td>0.027145</td>\n",
       "      <td>0.000000</td>\n",
       "      <td>0.219206</td>\n",
       "      <td>0.216901</td>\n",
       "    </tr>\n",
       "    <tr>\n",
       "      <th>fruit</th>\n",
       "      <td>0.498829</td>\n",
       "      <td>0.237993</td>\n",
       "      <td>0.136861</td>\n",
       "      <td>0.000586</td>\n",
       "      <td>0.125732</td>\n",
       "    </tr>\n",
       "    <tr>\n",
       "      <th>spices</th>\n",
       "      <td>0.250733</td>\n",
       "      <td>0.323741</td>\n",
       "      <td>0.272848</td>\n",
       "      <td>0.152411</td>\n",
       "      <td>0.000266</td>\n",
       "    </tr>\n",
       "  </tbody>\n",
       "</table>\n",
       "</div>"
      ],
      "text/plain": [
       "location2  checkout     dairy    drinks     fruit    spices\n",
       "location                                                   \n",
       "checkout   1.000000  0.000000  0.000000  0.000000  0.000000\n",
       "dairy      0.390041  0.001282  0.222697  0.190425  0.195555\n",
       "drinks     0.536748  0.027145  0.000000  0.219206  0.216901\n",
       "fruit      0.498829  0.237993  0.136861  0.000586  0.125732\n",
       "spices     0.250733  0.323741  0.272848  0.152411  0.000266"
      ]
     },
     "execution_count": 28,
     "metadata": {},
     "output_type": "execute_result"
    }
   ],
   "source": [
    "cross"
   ]
  },
  {
   "cell_type": "code",
   "execution_count": 29,
   "metadata": {},
   "outputs": [
    {
     "data": {
      "text/plain": [
       "<AxesSubplot:xlabel='location2', ylabel='location'>"
      ]
     },
     "execution_count": 29,
     "metadata": {},
     "output_type": "execute_result"
    },
    {
     "data": {
      "image/png": "[encoded data removed]",
      "text/plain": [
       "<Figure size 864x576 with 2 Axes>"
      ]
     },
     "metadata": {
      "needs_background": "light"
     },
     "output_type": "display_data"
    }
   ],
   "source": [
    "# inspect correlation\n",
    "plt.rcParams['figure.figsize'] = (12,8)\n",
    "sns.heatmap(round(cross[['checkout','dairy','drinks','fruit', 'spices']], 2), annot=True)"
   ]
  },
  {
   "cell_type": "markdown",
   "metadata": {},
   "source": [
    "---"
   ]
  },
  {
   "cell_type": "markdown",
   "metadata": {},
   "source": [
    "## **5. Creating Customer and Supermarket Class**"
   ]
  },
  {
   "cell_type": "code",
   "execution_count": 30,
   "metadata": {},
   "outputs": [
    {
     "data": {
      "text/html": [
       "<div>\n",
       "<style scoped>\n",
       "    .dataframe tbody tr th:only-of-type {\n",
       "        vertical-align: middle;\n",
       "    }\n",
       "\n",
       "    .dataframe tbody tr th {\n",
       "        vertical-align: top;\n",
       "    }\n",
       "\n",
       "    .dataframe thead th {\n",
       "        text-align: right;\n",
       "    }\n",
       "</style>\n",
       "<table border=\"1\" class=\"dataframe\">\n",
       "  <thead>\n",
       "    <tr style=\"text-align: right;\">\n",
       "      <th>location2</th>\n",
       "      <th>checkout</th>\n",
       "      <th>dairy</th>\n",
       "      <th>drinks</th>\n",
       "      <th>fruit</th>\n",
       "      <th>spices</th>\n",
       "    </tr>\n",
       "    <tr>\n",
       "      <th>location</th>\n",
       "      <th></th>\n",
       "      <th></th>\n",
       "      <th></th>\n",
       "      <th></th>\n",
       "      <th></th>\n",
       "    </tr>\n",
       "  </thead>\n",
       "  <tbody>\n",
       "    <tr>\n",
       "      <th>checkout</th>\n",
       "      <td>1.000000</td>\n",
       "      <td>0.000000</td>\n",
       "      <td>0.000000</td>\n",
       "      <td>0.000000</td>\n",
       "      <td>0.000000</td>\n",
       "    </tr>\n",
       "    <tr>\n",
       "      <th>dairy</th>\n",
       "      <td>0.390041</td>\n",
       "      <td>0.001282</td>\n",
       "      <td>0.222697</td>\n",
       "      <td>0.190425</td>\n",
       "      <td>0.195555</td>\n",
       "    </tr>\n",
       "    <tr>\n",
       "      <th>drinks</th>\n",
       "      <td>0.536748</td>\n",
       "      <td>0.027145</td>\n",
       "      <td>0.000000</td>\n",
       "      <td>0.219206</td>\n",
       "      <td>0.216901</td>\n",
       "    </tr>\n",
       "    <tr>\n",
       "      <th>fruit</th>\n",
       "      <td>0.498829</td>\n",
       "      <td>0.237993</td>\n",
       "      <td>0.136861</td>\n",
       "      <td>0.000586</td>\n",
       "      <td>0.125732</td>\n",
       "    </tr>\n",
       "    <tr>\n",
       "      <th>spices</th>\n",
       "      <td>0.250733</td>\n",
       "      <td>0.323741</td>\n",
       "      <td>0.272848</td>\n",
       "      <td>0.152411</td>\n",
       "      <td>0.000266</td>\n",
       "    </tr>\n",
       "  </tbody>\n",
       "</table>\n",
       "</div>"
      ],
      "text/plain": [
       "location2  checkout     dairy    drinks     fruit    spices\n",
       "location                                                   \n",
       "checkout   1.000000  0.000000  0.000000  0.000000  0.000000\n",
       "dairy      0.390041  0.001282  0.222697  0.190425  0.195555\n",
       "drinks     0.536748  0.027145  0.000000  0.219206  0.216901\n",
       "fruit      0.498829  0.237993  0.136861  0.000586  0.125732\n",
       "spices     0.250733  0.323741  0.272848  0.152411  0.000266"
      ]
     },
     "execution_count": 30,
     "metadata": {},
     "output_type": "execute_result"
    }
   ],
   "source": [
    "cross"
   ]
  },
  {
   "cell_type": "markdown",
   "metadata": {},
   "source": [
    "### **Incoming Customer**"
   ]
  },
  {
   "cell_type": "code",
   "execution_count": 334,
   "metadata": {},
   "outputs": [],
   "source": [
    "# create customer class\n",
    "class Customer:\n",
    "    \"\"\"\n",
    "    a single customer that moves through the supermarket\n",
    "    in a MCMC simulation\n",
    "    \"\"\"\n",
    "    def __init__(self, name, state, transition_probs ,budget =100):\n",
    "        self.name= name\n",
    "        self.state= state\n",
    "        self.budget= budget\n",
    "        self.transition_probs = cross.loc[self.state]\n",
    "    def __repr__(self):\n",
    "        return f'Customer {self.name} is currently in the {self.state} section'\n",
    "    def is_active(self):\n",
    "        \"\"\"Returns True if the customer has not reached the checkout yet.\"\"\"\n",
    "        if self.state == 'checkout':\n",
    "            return False\n",
    "        else:\n",
    "            return True\n",
    "    def next_state(self):\n",
    "        '''\n",
    "        Propagates the customer to the next state.\n",
    "        Returns nothing.\n",
    "        '''\n",
    "        self.state = np.random.choice(['checkout', 'dairy', 'drinks', 'fruit','spices'],p=self.transition_probs)\n",
    "        self.transition_probs = cross.loc[self.state]"
   ]
  },
  {
   "cell_type": "code",
   "execution_count": 1003,
   "metadata": {},
   "outputs": [],
   "source": [
    "cust1 = Customer(\"Kevin\", \"drinks\",cross, 50)\n",
    "cust2 = Customer(\"Deepak\", \"spices\",cross)\n",
    "cust3 = Customer(\"Anastasía\", \"dairy\", cross, 70 )\n",
    "cust4 = Customer(\"Gizmo\", \"drinks\",cross, 50)\n",
    "cust5 = Customer(\"Joaquin\", \"spices\",cross)\n",
    "cust6 = Customer(\"Cissy\", \"fruit\", cross, 80 )"
   ]
  },
  {
   "cell_type": "code",
   "execution_count": 1004,
   "metadata": {},
   "outputs": [
    {
     "name": "stdout",
     "output_type": "stream",
     "text": [
      "Customer Kevin is currently in the drinks section\n",
      "Customer Kevin is currently in the checkout section\n"
     ]
    }
   ],
   "source": [
    "print(cust1)\n",
    "while cust1.is_active():\n",
    "    cust1.next_state()\n",
    "    print(cust1)"
   ]
  },
  {
   "cell_type": "code",
   "execution_count": 1005,
   "metadata": {},
   "outputs": [
    {
     "name": "stdout",
     "output_type": "stream",
     "text": [
      "Customer Anastasía is currently in the dairy section\n",
      "Customer Anastasía is currently in the drinks section\n",
      "Customer Anastasía is currently in the dairy section\n",
      "Customer Anastasía is currently in the checkout section\n"
     ]
    }
   ],
   "source": [
    "print(cust3)\n",
    "while cust3.is_active():\n",
    "    cust3.next_state()\n",
    "    print(cust3)"
   ]
  },
  {
   "cell_type": "markdown",
   "metadata": {},
   "source": [
    "### **In the Supermarket**"
   ]
  },
  {
   "cell_type": "code",
   "execution_count": 958,
   "metadata": {},
   "outputs": [],
   "source": [
    "class supermarket(Customer):\n",
    "    \"\"\"manages multiple Customer instances that are currently in the market.\n",
    "    \"\"\"\n",
    "    def __init__(self, market_name):\n",
    "        self.customers = {}\n",
    "        self.customers_in_market = {}\n",
    "        self.items = []\n",
    "        self.minutes = 0\n",
    "        self.last_id = 0\n",
    "        self.customer_counter = 0\n",
    "        self.market_name = market_name\n",
    "        self.current_time = pd.to_datetime('07:00',format='%H:%M')\n",
    "        \n",
    "    def __repr__(self):\n",
    "        return f'Welcome to the {self.market_name} supermarket!!'\n",
    "\n",
    "    \n",
    "    def get_time(self):\n",
    "        \"\"\"current time in HH:MM format,\n",
    "        \"\"\"\n",
    "        currentTime_timestamp = self.current_time\n",
    "        currentTime = currentTime_timestamp.strftime(\"%H:%M\")\n",
    "        print(\"Current Time =\", currentTime)\n",
    "        return None\n",
    "\n",
    "    \n",
    "    def remove_exitsting_customers(self): \n",
    "        #make it work\n",
    "        \"\"\"remove churned customers from the supermarket\n",
    "        \"\"\"\n",
    "        for customer in self.customers:\n",
    "            if customer.state == 'checkout':\n",
    "                 customers.pop(customer)\n",
    "        return None\n",
    "    \n",
    "\n",
    "    def next_minute(self):\n",
    "        #for every customer determine their next state\n",
    "        \"\"\"propagates all customers to the next state.\n",
    "        \"\"\"\n",
    "        \n",
    "        self.current_time  = (self.current_time + dt.timedelta(minutes = 1))\n",
    "        next_timestep = self.current_time.strftime(\"%H:%M\")\n",
    "        self.minutes = self.minutes +1\n",
    "        \n",
    "        if self.customer_counter < len(self.customers.keys()) :\n",
    "            self.customers_in_market[self.customer_counter] = self.customers[self.customer_counter] \n",
    "            self.customer_counter = self.customer_counter + 1\n",
    "   \n",
    "        print(\"Next Timestep =\", next_timestep)\n",
    "        print(\"\")       \n",
    "        print(\"__________________\")\n",
    "        print(\"\")\n",
    "        \n",
    "        for customer in self.customers_in_market.values():\n",
    "            if customer.is_active() == True:\n",
    "                \n",
    "                items_in_state = [x for x in market.items if x[0] == customer.state]\n",
    "                random_item= random.sample(items_in_state, 1)\n",
    "                if customer.state == 'checkout':\n",
    "                    print(f'{customer.name} ends up in the {customer.state} section and leaves with a budget of {customer.budget} €')\n",
    "                else:                 \n",
    "                    print(f'{customer.name} is in the {customer.state} section and buys {random_item[0][1]} for {random_item[0][2]} €' )\n",
    "                    customer.budget = customer.budget - random_item[0][2] \n",
    "                    print(f'The remaining budget of {customer.name} is {customer.budget} €')\n",
    "                customer.next_state()\n",
    "            else:\n",
    "                print(f'{customer.name} ends up in the {customer.state} section and leaves with a budget of {customer.budget} €')\n",
    "                #for customer in self.customers_in_market.values():\n",
    "                #self.customers_in_market.pop(value = customer)\n",
    "            print()\n",
    "            print()       \n",
    "        return None                      \n",
    "\n",
    "    \n",
    "    def add_customer(self, customer):\n",
    "        self.customers[self.last_id] = customer\n",
    "        #self.customers.extend(self.last_id)\n",
    "        self.last_id = int(self.last_id) +1\n",
    "              \n",
    "        \n",
    "    def clear_customers(self):\n",
    "        self.customers.clear()  \n",
    "        \n",
    "    def add_items(self, state , items, price):\n",
    "        self.items.append([state, items, price])\n",
    "        \n",
    "    def clear_items(self):\n",
    "        self.items.clear()  \n",
    "        \n",
    "    def goes_shopping(self):\n",
    "        for customer in self.customers.values():\n",
    "            items_in_state = [x for x in market.items if x[0] == customer.state]\n",
    "            random_item= random.sample(items_in_state, 1)\n",
    "\n",
    "            print(f'Customer {customer.name} is currently in the {customer.state} section and buys {random_item[0][1]} for {random_item[0][2]} €' )\n",
    "            customer.budget = customer.budget - random_item[0][2] \n",
    "            print(f'The remaining budget of {customer.name} is {customer.budget} €')\n",
    "            while customer.is_active():\n",
    "                customer.next_state()\n",
    "                items_in_state = [x for x in market.items if x[0] == customer.state]\n",
    "                random_item= random.sample(items_in_state, 1)\n",
    "                if customer.state == 'checkout':\n",
    "                    print(f'{customer.name} is in the {customer.state} section and leaves with a budget of {customer.budget} €')\n",
    "                else:                 \n",
    "                    print(f'{customer.name} moves on to the {customer.state} section and buys {random_item[0][1]} for {random_item[0][2]} €' )\n",
    "                    customer.budget = customer.budget - random_item[0][2] \n",
    "                    print(f'The remaining budget of {customer.name} is {customer.budget} €')\n",
    "            print()\n",
    "            print()\n"
   ]
  },
  {
   "cell_type": "code",
   "execution_count": 1006,
   "metadata": {},
   "outputs": [
    {
     "name": "stdout",
     "output_type": "stream",
     "text": [
      "Welcome to the REWE supermarket!!\n"
     ]
    }
   ],
   "source": [
    "market = supermarket('REWE')\n",
    "print(market)"
   ]
  },
  {
   "cell_type": "markdown",
   "metadata": {},
   "source": [
    "### **Define the available items in the supermarket**"
   ]
  },
  {
   "cell_type": "code",
   "execution_count": 1007,
   "metadata": {},
   "outputs": [],
   "source": [
    "market.clear_items()\n",
    "market.add_items('drinks', 'FritzCola', 3)\n",
    "market.add_items('drinks', 'Water', 1.5)\n",
    "market.add_items('drinks', 'IceTea', 3)\n",
    "market.add_items('drinks', 'Wine', 10)\n",
    "market.add_items('dairy', 'Yogurt', 3)\n",
    "market.add_items('dairy', 'Butter', 4)\n",
    "market.add_items('dairy', 'Milk', 1)\n",
    "market.add_items('dairy', 'Cream', 3)\n",
    "market.add_items('fruit', 'Blueberry', 5)\n",
    "market.add_items('fruit', 'Banana', 2)\n",
    "market.add_items('fruit', 'Strawberry', 6)\n",
    "market.add_items('fruit', 'Cherry', 6)\n",
    "market.add_items('spices', 'Sumac', 3)\n",
    "market.add_items('spices', 'Pepper', 2)\n",
    "market.add_items('spices', 'Salt', 1)\n",
    "market.add_items('spices', 'Safran', 10)\n",
    "market.add_items('checkout', 'nothing', 0)"
   ]
  },
  {
   "cell_type": "code",
   "execution_count": 982,
   "metadata": {},
   "outputs": [
    {
     "data": {
      "text/plain": [
       "[['drinks', 'FritzCola', 3],\n",
       " ['drinks', 'Water', 1.5],\n",
       " ['drinks', 'IceTea', 3],\n",
       " ['drinks', 'Wine', 10],\n",
       " ['dairy', 'Yogurt', 3],\n",
       " ['dairy', 'Butter', 4],\n",
       " ['dairy', 'Milk', 1],\n",
       " ['dairy', 'Cream', 3],\n",
       " ['fruit', 'Blueberry', 5],\n",
       " ['fruit', 'Banana', 2],\n",
       " ['fruit', 'Strawberry', 6],\n",
       " ['fruit', 'Cherry', 6],\n",
       " ['spices', 'Sumac', 3],\n",
       " ['spices', 'Pepper', 2],\n",
       " ['spices', 'Salt', 1],\n",
       " ['spices', 'Safran', 10],\n",
       " ['checkout', 'nothing', 0]]"
      ]
     },
     "execution_count": 982,
     "metadata": {},
     "output_type": "execute_result"
    }
   ],
   "source": [
    "market.items"
   ]
  },
  {
   "cell_type": "markdown",
   "metadata": {},
   "source": [
    "### **Define a set of costumers**"
   ]
  },
  {
   "cell_type": "code",
   "execution_count": 999,
   "metadata": {},
   "outputs": [],
   "source": [
    "cust1 = Customer(\"Kevin\", \"drinks\",cross, 50)\n",
    "cust2 = Customer(\"Deepak\", \"spices\",cross)\n",
    "cust3 = Customer(\"Anastasia\", \"dairy\", cross, 70 )\n",
    "cust4 = Customer(\"Gizmo\", \"drinks\",cross, 50)\n",
    "cust5 = Customer(\"Joaquin\", \"spices\",cross)\n",
    "cust6 = Customer(\"Cissy\", \"fruit\", cross, 80 )"
   ]
  },
  {
   "cell_type": "code",
   "execution_count": 1000,
   "metadata": {},
   "outputs": [],
   "source": [
    "market.clear_customers()\n",
    "market.add_customer(cust1)\n",
    "market.add_customer(cust2)\n",
    "market.add_customer(cust3)\n",
    "market.add_customer(cust4)\n",
    "market.add_customer(cust5)\n",
    "market.add_customer(cust6)"
   ]
  },
  {
   "cell_type": "markdown",
   "metadata": {},
   "source": [
    "### **Let the customers move in**"
   ]
  },
  {
   "cell_type": "code",
   "execution_count": 985,
   "metadata": {},
   "outputs": [
    {
     "name": "stdout",
     "output_type": "stream",
     "text": [
      "Current Time = 07:00\n"
     ]
    }
   ],
   "source": [
    "market.get_time()"
   ]
  },
  {
   "cell_type": "code",
   "execution_count": 995,
   "metadata": {},
   "outputs": [
    {
     "name": "stdout",
     "output_type": "stream",
     "text": [
      "Next Timestep = 07:10\n",
      "\n",
      "__________________\n",
      "\n",
      "Kevin ends up in the checkout section and leaves with a budget of 29.5 €\n",
      "\n",
      "\n",
      "Deepak ends up in the checkout section and leaves with a budget of 89.5 €\n",
      "\n",
      "\n",
      "Anastasia ends up in the checkout section and leaves with a budget of 63 €\n",
      "\n",
      "\n",
      "Gizmo ends up in the checkout section and leaves with a budget of 40 €\n",
      "\n",
      "\n",
      "Joaquin ends up in the checkout section and leaves with a budget of 70 €\n",
      "\n",
      "\n",
      "Cissy ends up in the checkout section and leaves with a budget of 54 €\n",
      "\n",
      "\n"
     ]
    }
   ],
   "source": [
    "### repeating this line will make the customers move around the supermarket. After each minute each costumers goes to another aile and buys another item\n",
    "market.next_minute()"
   ]
  },
  {
   "cell_type": "code",
   "execution_count": 996,
   "metadata": {},
   "outputs": [
    {
     "data": {
      "text/plain": [
       "{0: Customer Kevin is currently in the checkout section,\n",
       " 1: Customer Deepak is currently in the checkout section,\n",
       " 2: Customer Anastasia is currently in the checkout section,\n",
       " 3: Customer Gizmo is currently in the checkout section,\n",
       " 4: Customer Joaquin is currently in the checkout section,\n",
       " 5: Customer Cissy is currently in the checkout section}"
      ]
     },
     "execution_count": 996,
     "metadata": {},
     "output_type": "execute_result"
    }
   ],
   "source": [
    "market.customers_in_market"
   ]
  },
  {
   "cell_type": "markdown",
   "metadata": {},
   "source": [
    "### **Let customers go shopping at once**"
   ]
  },
  {
   "cell_type": "code",
   "execution_count": 997,
   "metadata": {},
   "outputs": [],
   "source": [
    "market.clear_customers()\n",
    "market.add_customer(cust1)\n",
    "market.add_customer(cust2)\n",
    "market.add_customer(cust3)\n",
    "market.add_customer(cust4)\n",
    "market.add_customer(cust5)\n",
    "market.add_customer(cust6)"
   ]
  },
  {
   "cell_type": "code",
   "execution_count": 1001,
   "metadata": {},
   "outputs": [
    {
     "name": "stdout",
     "output_type": "stream",
     "text": [
      "Customer Kevin is currently in the drinks section and buys Wine for 10 €\n",
      "The remaining budget of Kevin is 40 €\n",
      "Kevin moves on to the spices section and buys Salt for 1 €\n",
      "The remaining budget of Kevin is 39 €\n",
      "Kevin moves on to the drinks section and buys Wine for 10 €\n",
      "The remaining budget of Kevin is 29 €\n",
      "Kevin moves on to the spices section and buys Salt for 1 €\n",
      "The remaining budget of Kevin is 28 €\n",
      "Kevin moves on to the drinks section and buys Water for 1.5 €\n",
      "The remaining budget of Kevin is 26.5 €\n",
      "Kevin moves on to the dairy section and buys Milk for 1 €\n",
      "The remaining budget of Kevin is 25.5 €\n",
      "Kevin moves on to the fruit section and buys Cherry for 6 €\n",
      "The remaining budget of Kevin is 19.5 €\n",
      "Kevin is in the checkout section and leaves with a budget of 19.5 €\n",
      "\n",
      "\n",
      "Customer Deepak is currently in the spices section and buys Safran for 10 €\n",
      "The remaining budget of Deepak is 90 €\n",
      "Deepak is in the checkout section and leaves with a budget of 90 €\n",
      "\n",
      "\n",
      "Customer Anastasia is currently in the dairy section and buys Milk for 1 €\n",
      "The remaining budget of Anastasia is 69 €\n",
      "Anastasia moves on to the fruit section and buys Banana for 2 €\n",
      "The remaining budget of Anastasia is 67 €\n",
      "Anastasia is in the checkout section and leaves with a budget of 67 €\n",
      "\n",
      "\n",
      "Customer Gizmo is currently in the drinks section and buys Water for 1.5 €\n",
      "The remaining budget of Gizmo is 48.5 €\n",
      "Gizmo is in the checkout section and leaves with a budget of 48.5 €\n",
      "\n",
      "\n",
      "Customer Joaquin is currently in the spices section and buys Safran for 10 €\n",
      "The remaining budget of Joaquin is 90 €\n",
      "Joaquin is in the checkout section and leaves with a budget of 90 €\n",
      "\n",
      "\n",
      "Customer Cissy is currently in the fruit section and buys Blueberry for 5 €\n",
      "The remaining budget of Cissy is 75 €\n",
      "Cissy is in the checkout section and leaves with a budget of 75 €\n",
      "\n",
      "\n"
     ]
    }
   ],
   "source": [
    "market.goes_shopping()"
   ]
  },
  {
   "cell_type": "code",
   "execution_count": 1002,
   "metadata": {},
   "outputs": [
    {
     "data": {
      "text/plain": [
       "{12: Customer Kevin is currently in the checkout section,\n",
       " 13: Customer Deepak is currently in the checkout section,\n",
       " 14: Customer Anastasia is currently in the checkout section,\n",
       " 15: Customer Gizmo is currently in the checkout section,\n",
       " 16: Customer Joaquin is currently in the checkout section,\n",
       " 17: Customer Cissy is currently in the checkout section}"
      ]
     },
     "execution_count": 1002,
     "metadata": {},
     "output_type": "execute_result"
    }
   ],
   "source": [
    "market.customers"
   ]
  },
  {
   "cell_type": "code",
   "execution_count": null,
   "metadata": {},
   "outputs": [],
   "source": []
  }
 ],
 "metadata": {
  "kernelspec": {
   "display_name": "Python 3",
   "language": "python",
   "name": "python3"
  },
  "language_info": {
   "codemirror_mode": {
    "name": "ipython",
    "version": 3
   },
   "file_extension": ".py",
   "mimetype": "text/x-python",
   "name": "python",
   "nbconvert_exporter": "python",
   "pygments_lexer": "ipython3",
   "version": "3.8.5"
  }
 },
 "nbformat": 4,
 "nbformat_minor": 4
}
